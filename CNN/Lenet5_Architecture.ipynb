{
 "cells": [
  {
   "cell_type": "code",
   "execution_count": 3,
   "metadata": {},
   "outputs": [],
   "source": [
    "import tensorflow as tf\n",
    "from tensorflow import keras\n",
    "from keras.models import Sequential\n",
    "from keras.layers import Dense, Conv2D, AveragePooling2D, Flatten"
   ]
  },
  {
   "cell_type": "markdown",
   "metadata": {},
   "source": [
    "Lenet5 was the first CNN architecture that was developed. \n",
    "\n",
    "Let's make Lenet5 architecture:"
   ]
  },
  {
   "cell_type": "markdown",
   "metadata": {},
   "source": [
    "-Size of the input was (32,32)"
   ]
  },
  {
   "cell_type": "code",
   "execution_count": 6,
   "metadata": {},
   "outputs": [],
   "source": [
    "lenet5= Sequential()\n",
    "\n",
    "\n",
    "#--------------------------------------------------------------\n",
    "#first layer was convolational layer having:\n",
    "        #-6 filters\n",
    "        #-each of shape (5,5)\n",
    "        #-no padding\n",
    "        #activation : tanh\n",
    "lenet5.add(Conv2D(\n",
    "    filters=6,\n",
    "    kernel_size= (5,5),\n",
    "    padding= 'valid',\n",
    "    activation= 'tanh',\n",
    "    input_shape= (32,32,1)\n",
    "))\n",
    "#second layer in lenet5 was averagepooling layer\n",
    "        #pool_size= (2,2)\n",
    "        #strides= 2\n",
    "lenet5.add(AveragePooling2D(\n",
    "    pool_size=(2,2),\n",
    "    strides=2,\n",
    "    padding='valid'\n",
    "))\n",
    "#------------------------------------------------------------------\n",
    "\n",
    "#some people take conv and pool as single layer also\n",
    "\n",
    "#-------------------------------------------------------------------\n",
    "#third layer will be convolational layer having:\n",
    "        #-16 filters\n",
    "        #-each of shape (5,5)\n",
    "        #-no padding\n",
    "        #activation : tanh\n",
    "lenet5.add(Conv2D(\n",
    "    filters=16,\n",
    "    kernel_size= (5,5),\n",
    "    padding= 'valid',\n",
    "    activation= 'tanh'\n",
    "))\n",
    "\n",
    "\n",
    "#fourth layer in lenet5 was averagepooling layer\n",
    "        #pool_size= (2,2)\n",
    "        #strides= 2\n",
    "lenet5.add(AveragePooling2D(\n",
    "    pool_size=(2,2),\n",
    "    strides=2,\n",
    "    padding='valid'\n",
    "))\n",
    "#-----------------------------------------------------------------------\n",
    "\n",
    "\n",
    "\n",
    "#fifth layer was flatten layer\n",
    "lenet5.add(Flatten())\n",
    "\n",
    "\n",
    "#sixth layer was Dense layer\n",
    "        #120 neuron\n",
    "        #activation: tanh\n",
    "lenet5.add(Dense(\n",
    "    units=120,\n",
    "    activation='tanh'\n",
    "))\n",
    "\n",
    "\n",
    "#seventh layer was Dense layer\n",
    "        #84 neuron\n",
    "        #activation: tanh\n",
    "lenet5.add(Dense(\n",
    "    units=84,\n",
    "    activation='tanh'\n",
    "))\n",
    "\n",
    "\n",
    "#output layer was Dense layer\n",
    "        #10 neuron\n",
    "        #activation: softmax\n",
    "lenet5.add(Dense(\n",
    "    units=10,\n",
    "    activation='softmax'\n",
    "))\n",
    "\n"
   ]
  },
  {
   "cell_type": "code",
   "execution_count": 7,
   "metadata": {},
   "outputs": [
    {
     "name": "stdout",
     "output_type": "stream",
     "text": [
      "Model: \"sequential_1\"\n",
      "_________________________________________________________________\n",
      " Layer (type)                Output Shape              Param #   \n",
      "=================================================================\n",
      " conv2d_2 (Conv2D)           (None, 28, 28, 6)         156       \n",
      "                                                                 \n",
      " average_pooling2d_2 (Avera  (None, 14, 14, 6)         0         \n",
      " gePooling2D)                                                    \n",
      "                                                                 \n",
      " conv2d_3 (Conv2D)           (None, 10, 10, 16)        2416      \n",
      "                                                                 \n",
      " average_pooling2d_3 (Avera  (None, 5, 5, 16)          0         \n",
      " gePooling2D)                                                    \n",
      "                                                                 \n",
      " flatten_1 (Flatten)         (None, 400)               0         \n",
      "                                                                 \n",
      " dense_3 (Dense)             (None, 120)               48120     \n",
      "                                                                 \n",
      " dense_4 (Dense)             (None, 84)                10164     \n",
      "                                                                 \n",
      " dense_5 (Dense)             (None, 10)                850       \n",
      "                                                                 \n",
      "=================================================================\n",
      "Total params: 61706 (241.04 KB)\n",
      "Trainable params: 61706 (241.04 KB)\n",
      "Non-trainable params: 0 (0.00 Byte)\n",
      "_________________________________________________________________\n"
     ]
    }
   ],
   "source": [
    "lenet5.summary()"
   ]
  },
  {
   "cell_type": "code",
   "execution_count": null,
   "metadata": {},
   "outputs": [],
   "source": []
  }
 ],
 "metadata": {
  "kernelspec": {
   "display_name": "myenv",
   "language": "python",
   "name": "python3"
  },
  "language_info": {
   "codemirror_mode": {
    "name": "ipython",
    "version": 3
   },
   "file_extension": ".py",
   "mimetype": "text/x-python",
   "name": "python",
   "nbconvert_exporter": "python",
   "pygments_lexer": "ipython3",
   "version": "3.9.13"
  }
 },
 "nbformat": 4,
 "nbformat_minor": 2
}
