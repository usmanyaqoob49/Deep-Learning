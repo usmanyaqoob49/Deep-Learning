{
 "cells": [
  {
   "cell_type": "code",
   "execution_count": 2,
   "metadata": {},
   "outputs": [],
   "source": [
    "import tensorflow as tf\n",
    "from tensorflow import keras\n",
    "from keras.models import Sequential\n",
    "from keras.layers import Dense, Conv2D, AveragePooling2D, Flatten"
   ]
  },
  {
   "cell_type": "markdown",
   "metadata": {},
   "source": [
    "Lenet5 was the first CNN architecture that was developed. \n",
    "\n",
    "Let's make Lenet5 architecture:"
   ]
  },
  {
   "cell_type": "markdown",
   "metadata": {},
   "source": [
    "-Size of the input was (32,32)"
   ]
  },
  {
   "cell_type": "code",
   "execution_count": null,
   "metadata": {},
   "outputs": [],
   "source": [
    "lenet5= Sequential()\n",
    "\n",
    "#first layer was convolational layer having:\n",
    "        #-6 filters\n",
    "        #-each of shape (5,5)\n",
    "        #-no padding\n",
    "        #activation : tanh\n",
    "lenet5.add(Conv2D(\n",
    "    filters=6,\n",
    "    kernel_size= (5,5),\n",
    "    padding= 'valid',\n",
    "    activation= 'tanh',\n",
    "    input_shape= (32,32,1)\n",
    "))\n",
    "\n",
    "#second layer in lenet5 was averagepooling layer\n",
    "        #pool_size= (2,2)\n",
    "        #strides= 2\n",
    "lenet5.add(AveragePooling2D(\n",
    "    pool_size=(2,2),\n",
    "    strides=2,\n",
    "    padding='valid'\n",
    "))\n",
    "\n",
    "\n",
    "#third layer will be convolational layer having:\n",
    "        #-16 filters\n",
    "        #-each of shape (5,5)\n",
    "        #-no padding\n",
    "        #activation : tanh\n",
    "lenet5.add(Conv2D(\n",
    "    filters=16,\n",
    "    kernel_size= (5,5),\n",
    "    padding= 'valid',\n",
    "    activation= 'tanh'\n",
    "))\n",
    "\n",
    "\n",
    "#fourth layer in lenet5 was averagepooling layer\n",
    "        #pool_size= (2,2)\n",
    "        #strides= 2\n",
    "lenet5.add(AveragePooling2D(\n",
    "    pool_size=(2,2),\n",
    "    strides=2,\n",
    "    padding='valid'\n",
    "))\n",
    "\n",
    "\n",
    "#fifth layer was flatten layer\n",
    "lenet5.add(flat)\n"
   ]
  }
 ],
 "metadata": {
  "kernelspec": {
   "display_name": "myenv",
   "language": "python",
   "name": "python3"
  },
  "language_info": {
   "codemirror_mode": {
    "name": "ipython",
    "version": 3
   },
   "file_extension": ".py",
   "mimetype": "text/x-python",
   "name": "python",
   "nbconvert_exporter": "python",
   "pygments_lexer": "ipython3",
   "version": "3.9.13"
  }
 },
 "nbformat": 4,
 "nbformat_minor": 2
}
