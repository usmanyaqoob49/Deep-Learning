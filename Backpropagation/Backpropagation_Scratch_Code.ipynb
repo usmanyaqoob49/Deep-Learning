{
  "nbformat": 4,
  "nbformat_minor": 0,
  "metadata": {
    "colab": {
      "provenance": []
    },
    "kernelspec": {
      "name": "python3",
      "display_name": "Python 3"
    },
    "language_info": {
      "name": "python"
    }
  },
  "cells": [
    {
      "cell_type": "code",
      "execution_count": 1,
      "metadata": {
        "id": "bGazMgHRCksJ"
      },
      "outputs": [],
      "source": [
        "import numpy as np\n",
        "import pandas as pd"
      ]
    },
    {
      "cell_type": "code",
      "source": [
        "#initializing the dataframe we will use\n",
        "#it will have 3 columns which will be CGPA, Rsume Score and LPA\n",
        "df = pd.DataFrame([[8, 8, 4], [7, 9, 5], [6, 10, 6], [5, 12, 7]],\n",
        "                  columns= ['CGPA', 'Resume_score', 'LPA'])"
      ],
      "metadata": {
        "id": "N4uda8esCxJV"
      },
      "execution_count": 2,
      "outputs": []
    },
    {
      "cell_type": "code",
      "source": [
        "df"
      ],
      "metadata": {
        "colab": {
          "base_uri": "https://localhost:8080/",
          "height": 175
        },
        "id": "bY3-NQUKDPIY",
        "outputId": "5e80322a-544d-4b08-bc7d-0ccac8bde527"
      },
      "execution_count": 3,
      "outputs": [
        {
          "output_type": "execute_result",
          "data": {
            "text/plain": [
              "   CGPA  Resume_score  LPA\n",
              "0     8             8    4\n",
              "1     7             9    5\n",
              "2     6            10    6\n",
              "3     5            12    7"
            ],
            "text/html": [
              "\n",
              "  <div id=\"df-90ba1f39-259c-4555-84e7-6c0165db0e18\" class=\"colab-df-container\">\n",
              "    <div>\n",
              "<style scoped>\n",
              "    .dataframe tbody tr th:only-of-type {\n",
              "        vertical-align: middle;\n",
              "    }\n",
              "\n",
              "    .dataframe tbody tr th {\n",
              "        vertical-align: top;\n",
              "    }\n",
              "\n",
              "    .dataframe thead th {\n",
              "        text-align: right;\n",
              "    }\n",
              "</style>\n",
              "<table border=\"1\" class=\"dataframe\">\n",
              "  <thead>\n",
              "    <tr style=\"text-align: right;\">\n",
              "      <th></th>\n",
              "      <th>CGPA</th>\n",
              "      <th>Resume_score</th>\n",
              "      <th>LPA</th>\n",
              "    </tr>\n",
              "  </thead>\n",
              "  <tbody>\n",
              "    <tr>\n",
              "      <th>0</th>\n",
              "      <td>8</td>\n",
              "      <td>8</td>\n",
              "      <td>4</td>\n",
              "    </tr>\n",
              "    <tr>\n",
              "      <th>1</th>\n",
              "      <td>7</td>\n",
              "      <td>9</td>\n",
              "      <td>5</td>\n",
              "    </tr>\n",
              "    <tr>\n",
              "      <th>2</th>\n",
              "      <td>6</td>\n",
              "      <td>10</td>\n",
              "      <td>6</td>\n",
              "    </tr>\n",
              "    <tr>\n",
              "      <th>3</th>\n",
              "      <td>5</td>\n",
              "      <td>12</td>\n",
              "      <td>7</td>\n",
              "    </tr>\n",
              "  </tbody>\n",
              "</table>\n",
              "</div>\n",
              "    <div class=\"colab-df-buttons\">\n",
              "\n",
              "  <div class=\"colab-df-container\">\n",
              "    <button class=\"colab-df-convert\" onclick=\"convertToInteractive('df-90ba1f39-259c-4555-84e7-6c0165db0e18')\"\n",
              "            title=\"Convert this dataframe to an interactive table.\"\n",
              "            style=\"display:none;\">\n",
              "\n",
              "  <svg xmlns=\"http://www.w3.org/2000/svg\" height=\"24px\" viewBox=\"0 -960 960 960\">\n",
              "    <path d=\"M120-120v-720h720v720H120Zm60-500h600v-160H180v160Zm220 220h160v-160H400v160Zm0 220h160v-160H400v160ZM180-400h160v-160H180v160Zm440 0h160v-160H620v160ZM180-180h160v-160H180v160Zm440 0h160v-160H620v160Z\"/>\n",
              "  </svg>\n",
              "    </button>\n",
              "\n",
              "  <style>\n",
              "    .colab-df-container {\n",
              "      display:flex;\n",
              "      gap: 12px;\n",
              "    }\n",
              "\n",
              "    .colab-df-convert {\n",
              "      background-color: #E8F0FE;\n",
              "      border: none;\n",
              "      border-radius: 50%;\n",
              "      cursor: pointer;\n",
              "      display: none;\n",
              "      fill: #1967D2;\n",
              "      height: 32px;\n",
              "      padding: 0 0 0 0;\n",
              "      width: 32px;\n",
              "    }\n",
              "\n",
              "    .colab-df-convert:hover {\n",
              "      background-color: #E2EBFA;\n",
              "      box-shadow: 0px 1px 2px rgba(60, 64, 67, 0.3), 0px 1px 3px 1px rgba(60, 64, 67, 0.15);\n",
              "      fill: #174EA6;\n",
              "    }\n",
              "\n",
              "    .colab-df-buttons div {\n",
              "      margin-bottom: 4px;\n",
              "    }\n",
              "\n",
              "    [theme=dark] .colab-df-convert {\n",
              "      background-color: #3B4455;\n",
              "      fill: #D2E3FC;\n",
              "    }\n",
              "\n",
              "    [theme=dark] .colab-df-convert:hover {\n",
              "      background-color: #434B5C;\n",
              "      box-shadow: 0px 1px 3px 1px rgba(0, 0, 0, 0.15);\n",
              "      filter: drop-shadow(0px 1px 2px rgba(0, 0, 0, 0.3));\n",
              "      fill: #FFFFFF;\n",
              "    }\n",
              "  </style>\n",
              "\n",
              "    <script>\n",
              "      const buttonEl =\n",
              "        document.querySelector('#df-90ba1f39-259c-4555-84e7-6c0165db0e18 button.colab-df-convert');\n",
              "      buttonEl.style.display =\n",
              "        google.colab.kernel.accessAllowed ? 'block' : 'none';\n",
              "\n",
              "      async function convertToInteractive(key) {\n",
              "        const element = document.querySelector('#df-90ba1f39-259c-4555-84e7-6c0165db0e18');\n",
              "        const dataTable =\n",
              "          await google.colab.kernel.invokeFunction('convertToInteractive',\n",
              "                                                    [key], {});\n",
              "        if (!dataTable) return;\n",
              "\n",
              "        const docLinkHtml = 'Like what you see? Visit the ' +\n",
              "          '<a target=\"_blank\" href=https://colab.research.google.com/notebooks/data_table.ipynb>data table notebook</a>'\n",
              "          + ' to learn more about interactive tables.';\n",
              "        element.innerHTML = '';\n",
              "        dataTable['output_type'] = 'display_data';\n",
              "        await google.colab.output.renderOutput(dataTable, element);\n",
              "        const docLink = document.createElement('div');\n",
              "        docLink.innerHTML = docLinkHtml;\n",
              "        element.appendChild(docLink);\n",
              "      }\n",
              "    </script>\n",
              "  </div>\n",
              "\n",
              "\n",
              "<div id=\"df-04bf1e15-9757-42f5-bbe7-34cc802f91af\">\n",
              "  <button class=\"colab-df-quickchart\" onclick=\"quickchart('df-04bf1e15-9757-42f5-bbe7-34cc802f91af')\"\n",
              "            title=\"Suggest charts.\"\n",
              "            style=\"display:none;\">\n",
              "\n",
              "<svg xmlns=\"http://www.w3.org/2000/svg\" height=\"24px\"viewBox=\"0 0 24 24\"\n",
              "     width=\"24px\">\n",
              "    <g>\n",
              "        <path d=\"M19 3H5c-1.1 0-2 .9-2 2v14c0 1.1.9 2 2 2h14c1.1 0 2-.9 2-2V5c0-1.1-.9-2-2-2zM9 17H7v-7h2v7zm4 0h-2V7h2v10zm4 0h-2v-4h2v4z\"/>\n",
              "    </g>\n",
              "</svg>\n",
              "  </button>\n",
              "\n",
              "<style>\n",
              "  .colab-df-quickchart {\n",
              "      --bg-color: #E8F0FE;\n",
              "      --fill-color: #1967D2;\n",
              "      --hover-bg-color: #E2EBFA;\n",
              "      --hover-fill-color: #174EA6;\n",
              "      --disabled-fill-color: #AAA;\n",
              "      --disabled-bg-color: #DDD;\n",
              "  }\n",
              "\n",
              "  [theme=dark] .colab-df-quickchart {\n",
              "      --bg-color: #3B4455;\n",
              "      --fill-color: #D2E3FC;\n",
              "      --hover-bg-color: #434B5C;\n",
              "      --hover-fill-color: #FFFFFF;\n",
              "      --disabled-bg-color: #3B4455;\n",
              "      --disabled-fill-color: #666;\n",
              "  }\n",
              "\n",
              "  .colab-df-quickchart {\n",
              "    background-color: var(--bg-color);\n",
              "    border: none;\n",
              "    border-radius: 50%;\n",
              "    cursor: pointer;\n",
              "    display: none;\n",
              "    fill: var(--fill-color);\n",
              "    height: 32px;\n",
              "    padding: 0;\n",
              "    width: 32px;\n",
              "  }\n",
              "\n",
              "  .colab-df-quickchart:hover {\n",
              "    background-color: var(--hover-bg-color);\n",
              "    box-shadow: 0 1px 2px rgba(60, 64, 67, 0.3), 0 1px 3px 1px rgba(60, 64, 67, 0.15);\n",
              "    fill: var(--button-hover-fill-color);\n",
              "  }\n",
              "\n",
              "  .colab-df-quickchart-complete:disabled,\n",
              "  .colab-df-quickchart-complete:disabled:hover {\n",
              "    background-color: var(--disabled-bg-color);\n",
              "    fill: var(--disabled-fill-color);\n",
              "    box-shadow: none;\n",
              "  }\n",
              "\n",
              "  .colab-df-spinner {\n",
              "    border: 2px solid var(--fill-color);\n",
              "    border-color: transparent;\n",
              "    border-bottom-color: var(--fill-color);\n",
              "    animation:\n",
              "      spin 1s steps(1) infinite;\n",
              "  }\n",
              "\n",
              "  @keyframes spin {\n",
              "    0% {\n",
              "      border-color: transparent;\n",
              "      border-bottom-color: var(--fill-color);\n",
              "      border-left-color: var(--fill-color);\n",
              "    }\n",
              "    20% {\n",
              "      border-color: transparent;\n",
              "      border-left-color: var(--fill-color);\n",
              "      border-top-color: var(--fill-color);\n",
              "    }\n",
              "    30% {\n",
              "      border-color: transparent;\n",
              "      border-left-color: var(--fill-color);\n",
              "      border-top-color: var(--fill-color);\n",
              "      border-right-color: var(--fill-color);\n",
              "    }\n",
              "    40% {\n",
              "      border-color: transparent;\n",
              "      border-right-color: var(--fill-color);\n",
              "      border-top-color: var(--fill-color);\n",
              "    }\n",
              "    60% {\n",
              "      border-color: transparent;\n",
              "      border-right-color: var(--fill-color);\n",
              "    }\n",
              "    80% {\n",
              "      border-color: transparent;\n",
              "      border-right-color: var(--fill-color);\n",
              "      border-bottom-color: var(--fill-color);\n",
              "    }\n",
              "    90% {\n",
              "      border-color: transparent;\n",
              "      border-bottom-color: var(--fill-color);\n",
              "    }\n",
              "  }\n",
              "</style>\n",
              "\n",
              "  <script>\n",
              "    async function quickchart(key) {\n",
              "      const quickchartButtonEl =\n",
              "        document.querySelector('#' + key + ' button');\n",
              "      quickchartButtonEl.disabled = true;  // To prevent multiple clicks.\n",
              "      quickchartButtonEl.classList.add('colab-df-spinner');\n",
              "      try {\n",
              "        const charts = await google.colab.kernel.invokeFunction(\n",
              "            'suggestCharts', [key], {});\n",
              "      } catch (error) {\n",
              "        console.error('Error during call to suggestCharts:', error);\n",
              "      }\n",
              "      quickchartButtonEl.classList.remove('colab-df-spinner');\n",
              "      quickchartButtonEl.classList.add('colab-df-quickchart-complete');\n",
              "    }\n",
              "    (() => {\n",
              "      let quickchartButtonEl =\n",
              "        document.querySelector('#df-04bf1e15-9757-42f5-bbe7-34cc802f91af button');\n",
              "      quickchartButtonEl.style.display =\n",
              "        google.colab.kernel.accessAllowed ? 'block' : 'none';\n",
              "    })();\n",
              "  </script>\n",
              "</div>\n",
              "    </div>\n",
              "  </div>\n"
            ]
          },
          "metadata": {},
          "execution_count": 3
        }
      ]
    },
    {
      "cell_type": "markdown",
      "source": [
        "# Steps for Training a Neural Network\n",
        "\n",
        "**Step 1: Initialize Weights and Bias**"
      ],
      "metadata": {
        "id": "h4QemOWuDVmo"
      }
    },
    {
      "cell_type": "code",
      "source": [
        "#We will provide it the architecture of our neural netwrok like\n",
        "#if we have 3 features in input, 3 neuron in hidden layer and 1 in output layer\n",
        "#our network architecture will be (3, 3, 1)\n",
        "def initialize_parameters(nn_architecture):\n",
        "  np.random.seed(3)\n",
        "  #to store parameter's name and the value\n",
        "  parameters= {}\n",
        "  #to know how many layers we will have we will take the length of architecture provided as it will have dimension for each layer, length of this list will be number of layers\n",
        "  number_of_layers= len(nn_architecture)\n",
        "  #applying for loop on layers to make parameters of each layer\n",
        "  for layer in range(1, number_of_layers):\n",
        "    #we will initialize each W of layer with value of 0.1 initially\n",
        "    #shape of our W parameter will be like (number_of_neuron_of_current x number_of_neuron_in_previous_layer)\n",
        "    parameters['W'+ str(layer)] = np.ones((nn_architecture[layer-1], nn_architecture[layer])) * 0.1\n",
        "    #we will initialize our b parameter as 0s in the start\n",
        "    #shape of our b will be (number_of_neuron_of_current x 1)\n",
        "    parameters['b' + str(layer)] = np.zeros((nn_architecture[layer], 1))\n",
        "\n",
        "  return parameters\n",
        "\n"
      ],
      "metadata": {
        "id": "TrjLGDBMDSF-"
      },
      "execution_count": 4,
      "outputs": []
    },
    {
      "cell_type": "markdown",
      "source": [
        "     \n",
        "**Architecture**        \n",
        "\n",
        "                                in1  O\n",
        "                                          O\n",
        "                                in2  O\n",
        "\n",
        "                So we will have 4 weights in W1 (for layer 1), 2 weights for W2\n",
        "                (for layer 2), 2 biases for layer 1 and 1 bias for layer 2."
      ],
      "metadata": {
        "id": "0yU_guDyKdyH"
      }
    },
    {
      "cell_type": "code",
      "source": [
        "#testing initialize parameter function\n",
        "initialize_parameters([2,2,1])"
      ],
      "metadata": {
        "colab": {
          "base_uri": "https://localhost:8080/"
        },
        "id": "_0LxiOZdI2tY",
        "outputId": "030ebe65-aab8-4a63-e8ce-505f86fadce8"
      },
      "execution_count": 5,
      "outputs": [
        {
          "output_type": "execute_result",
          "data": {
            "text/plain": [
              "{'W1': array([[0.1, 0.1],\n",
              "        [0.1, 0.1]]),\n",
              " 'b1': array([[0.],\n",
              "        [0.]]),\n",
              " 'W2': array([[0.1],\n",
              "        [0.1]]),\n",
              " 'b2': array([[0.]])}"
            ]
          },
          "metadata": {},
          "execution_count": 5
        }
      ]
    },
    {
      "cell_type": "code",
      "source": [
        "len(initialize_parameters([2,2,1]))"
      ],
      "metadata": {
        "colab": {
          "base_uri": "https://localhost:8080/"
        },
        "id": "adDugil6Ofe3",
        "outputId": "d6123c6c-378b-477b-8f4d-ab146099ad1f"
      },
      "execution_count": 6,
      "outputs": [
        {
          "output_type": "execute_result",
          "data": {
            "text/plain": [
              "4"
            ]
          },
          "metadata": {},
          "execution_count": 6
        }
      ]
    },
    {
      "cell_type": "markdown",
      "source": [
        "**Step 2: Perform Forward Propagation for Prediction**"
      ],
      "metadata": {
        "id": "TdF6BbWoK_jC"
      }
    },
    {
      "cell_type": "markdown",
      "source": [
        "Firstly we will make a linear foraward prop function that will be performed at each layer."
      ],
      "metadata": {
        "id": "xJLjf9CaMB69"
      }
    },
    {
      "cell_type": "code",
      "source": [
        "#It will take weights, input from previous layer and bias to perform forward propagation\n",
        "def forward_prop_prediction_function(W, pre_layer_input, b):\n",
        "  #we will call the output as Z\n",
        "\n",
        "  #so equation is wx+b\n",
        "  z= np.dot(W.T, pre_layer_input) + b\n",
        "  return z\n"
      ],
      "metadata": {
        "id": "Hfpc09QuI-Vm"
      },
      "execution_count": 7,
      "outputs": []
    },
    {
      "cell_type": "markdown",
      "source": [
        "Now Making main function for the forward"
      ],
      "metadata": {
        "id": "04vSo0gTMIHc"
      }
    },
    {
      "cell_type": "code",
      "source": [
        "#we will give the input and parameters to the function to perform the forward propagation\n",
        "#each row will be passed to this function as input and the prediction will be calculated\n",
        "def L_layer_forwar_prop(input, parameters):\n",
        "  A= input\n",
        "  #number of layers in neural network\n",
        "  #parameters will have n params and 2 for each leyers. so number of layers = params/2\n",
        "  number_of_layers= len(parameters) // 2\n",
        "\n",
        "  #we will consider input layer too\n",
        "  for layer in range(1, number_of_layers + 1):\n",
        "    #calculated output will become input for the next layer\n",
        "    A_prev= A\n",
        "    #getting W of that layer\n",
        "    Wl = parameters['W'+str(layer)]\n",
        "    #getting bias of that layer\n",
        "    bl= parameters['b'+str(layer)]\n",
        "\n",
        "    # print('A' + str(layer-1)+':', A_prev)\n",
        "    # print('W' + str(layer)+ \":\", Wl)\n",
        "    # print('b' + str(layer)+\":\", bl)\n",
        "    # print('----------------------------------------------')\n",
        "\n",
        "\n",
        "    #prediction will be made according to linear function defined above\n",
        "    #calculating output for the layer and it will become input for the next layer\n",
        "    A= forward_prop_prediction_function(A_prev, Wl, bl)\n",
        "    # print(\"A\"+ str(layer) + \":\", A)\n",
        "    # print(\"**********************************************\")\n",
        "\n",
        "  #it will return the output of current layer and the its input means output of previous layer\n",
        "  return A, A_prev\n",
        "\n"
      ],
      "metadata": {
        "id": "0ytqZEJpLmfe"
      },
      "execution_count": 26,
      "outputs": []
    },
    {
      "cell_type": "code",
      "source": [
        "#lets pass the first training example to our function\n",
        "#input will be cgpa and resume score of the student and out will be lpa\n",
        "\n",
        "#its shape will be (number of features x no of training examples)\n",
        "x= df[['CGPA', 'Resume_score']].values[0].reshape(2,1)\n",
        "#output label\n",
        "y= df[['LPA']].values[0][0]\n",
        "\n",
        "#initialize parameters\n",
        "parameters= initialize_parameters([2,2,1])\n",
        "\n",
        "y_hat, A1= L_layer_forwar_prop(x, parameters)\n"
      ],
      "metadata": {
        "id": "sduqLcNMQ3r1"
      },
      "execution_count": 27,
      "outputs": []
    },
    {
      "cell_type": "markdown",
      "source": [
        "A1 is the ouput of hidden layer that used input of example and 4 weights to calculate it."
      ],
      "metadata": {
        "id": "X0O4eG2VcWXk"
      }
    },
    {
      "cell_type": "code",
      "source": [
        "A1"
      ],
      "metadata": {
        "colab": {
          "base_uri": "https://localhost:8080/"
        },
        "id": "TW74KvZeUQsr",
        "outputId": "4603137c-8b59-4298-c6e3-f7b254b65b2c"
      },
      "execution_count": 28,
      "outputs": [
        {
          "output_type": "execute_result",
          "data": {
            "text/plain": [
              "array([[1.6, 1.6],\n",
              "       [1.6, 1.6]])"
            ]
          },
          "metadata": {},
          "execution_count": 28
        }
      ]
    },
    {
      "cell_type": "markdown",
      "source": [
        "yhat is the ouput of final output layer that uses A1 and wrights"
      ],
      "metadata": {
        "id": "DbK2XCL3cgGE"
      }
    },
    {
      "cell_type": "code",
      "source": [
        "y_hat"
      ],
      "metadata": {
        "colab": {
          "base_uri": "https://localhost:8080/"
        },
        "id": "JWtkHCAgcVQy",
        "outputId": "2d82a9ff-8d71-4680-a2bf-57b4960da64a"
      },
      "execution_count": 29,
      "outputs": [
        {
          "output_type": "execute_result",
          "data": {
            "text/plain": [
              "array([[0.32],\n",
              "       [0.32]])"
            ]
          },
          "metadata": {},
          "execution_count": 29
        }
      ]
    },
    {
      "cell_type": "code",
      "source": [
        "#similarly for other examples\n",
        "X3 = df[['CGPA', 'Resume_score']].values[3].reshape(2,1) # Shape(no of features, no. of training example)\n",
        "y3= df[['LPA']].values[3][0]\n",
        "\n",
        "y_hat,A1 = L_layer_forwar_prop(X3, parameters)"
      ],
      "metadata": {
        "id": "0wMH47a4ckiJ"
      },
      "execution_count": 30,
      "outputs": []
    },
    {
      "cell_type": "markdown",
      "source": [
        "**Step 3: Calculate Loss**"
      ],
      "metadata": {
        "id": "0qCfFsd0dj88"
      }
    },
    {
      "cell_type": "code",
      "source": [
        "loss = (y - y_hat) ** 2\n",
        "loss"
      ],
      "metadata": {
        "colab": {
          "base_uri": "https://localhost:8080/"
        },
        "id": "izhqa8dTdjpQ",
        "outputId": "f72b97a7-4e2d-41f0-979b-95c00057af67"
      },
      "execution_count": 31,
      "outputs": [
        {
          "output_type": "execute_result",
          "data": {
            "text/plain": [
              "array([[13.3956],\n",
              "       [13.3956]])"
            ]
          },
          "metadata": {},
          "execution_count": 31
        }
      ]
    },
    {
      "cell_type": "markdown",
      "source": [
        "**Step 4: Update Parameters according to their optimal Value after finding gradient of Loss with each Parameter**"
      ],
      "metadata": {
        "id": "fFO7XKGBdPZ8"
      }
    },
    {
      "cell_type": "markdown",
      "source": [
        "Derivatives values have been calcualted."
      ],
      "metadata": {
        "id": "8Gs1QBHmgTpD"
      }
    },
    {
      "cell_type": "markdown",
      "source": [
        "![WhatsApp Image 2023-10-17 at 16.55.27_1703a562.jpg](data:image/jpeg;base64,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)"
      ],
      "metadata": {
        "id": "phhjTBFufAyH"
      }
    },
    {
      "cell_type": "code",
      "source": [
        "def update_parameters(paramters, y, y_hat, A1, X):\n",
        "  #implementing the Gradient Descent equation for the value of the optimal weights\n",
        "\n",
        "  #Layer 2 (Output Layer)\n",
        "  #W_new = W_old - alpha*dL/dW\n",
        "  parameters['W2'][0][0] = parameters['W2'][0][0] + (0.001 * 2 * (y - y_hat)*A1[0][0])\n",
        "  parameters['W2'][1][0] = parameters['W2'][1][0] + (0.001 * 2 * (y - y_hat)*A1[1][0])\n",
        "  #b_new b_old - alpha*dL/db\n",
        "  parameters['b2'][0][0] = parameters['W2'][1][0] + (0.001 * 2 * (y - y_hat))\n",
        "\n",
        "  #Layer 1 (hidden layer)\n",
        "  parameters['W1'][0][0] = parameters['W1'][0][0] + (0.001 * 2 * (y - y_hat)*parameters['W2'][0][0]*X[0][0])\n",
        "  parameters['W1'][0][1] = parameters['W1'][0][1] + (0.001 * 2 * (y - y_hat)*parameters['W2'][0][0]*X[1][0])\n",
        "  parameters['b1'][0][0] = parameters['b1'][0][0] + (0.001 * 2 * (y - y_hat)*parameters['W2'][0][0])\n",
        "\n",
        "  parameters['W1'][1][0] = parameters['W1'][1][0] + (0.001 * 2 * (y - y_hat)*parameters['W2'][1][0]*X[0][0])\n",
        "  parameters['W1'][1][1] = parameters['W1'][1][1] + (0.001 * 2 * (y - y_hat)*parameters['W2'][1][0]*X[1][0])\n",
        "  parameters['b1'][1][0] = parameters['b1'][1][0] + (0.001 * 2 * (y - y_hat)*parameters['W2'][1][0])"
      ],
      "metadata": {
        "id": "q4C1dd4jc8Ab"
      },
      "execution_count": 32,
      "outputs": []
    },
    {
      "cell_type": "code",
      "source": [
        "X = df[['CGPA', 'Resume_score']].values[0].reshape(2,1) # Shape(no of features, no. of training example)\n",
        "y = df[['LPA']].values[0][0]\n",
        "\n",
        "# Parameter initialization\n",
        "parameters = initialize_parameters([2,2,1])\n",
        "\n",
        "y_hat,A1 = L_layer_forwar_prop(X,parameters)\n",
        "y_hat = y_hat[0][0]\n",
        "\n",
        "update_parameters(parameters,y,y_hat,A1,X)\n",
        "\n",
        "parameters"
      ],
      "metadata": {
        "colab": {
          "base_uri": "https://localhost:8080/"
        },
        "id": "WeCLn6TegXZa",
        "outputId": "37acfd2e-ea27-4ff0-cd40-7114d7baa3af"
      },
      "execution_count": 33,
      "outputs": [
        {
          "output_type": "execute_result",
          "data": {
            "text/plain": [
              "{'W1': array([[0.10658137, 0.10658137],\n",
              "        [0.10658137, 0.10658137]]),\n",
              " 'b1': array([[0.00082267],\n",
              "        [0.00082267]]),\n",
              " 'W2': array([[0.111776],\n",
              "        [0.111776]]),\n",
              " 'b2': array([[0.119136]])}"
            ]
          },
          "metadata": {},
          "execution_count": 33
        }
      ]
    },
    {
      "cell_type": "markdown",
      "source": [
        "**For all examples**"
      ],
      "metadata": {
        "id": "vFm6e-bUhvE9"
      }
    },
    {
      "cell_type": "code",
      "source": [
        "# epochs implementation\n",
        "\n",
        "parameters = initialize_parameters([2,2,1])\n",
        "epochs = 5\n",
        "\n",
        "for i in range(epochs):\n",
        "#to store the loss calculated for each exampel\n",
        "  Loss = []\n",
        "\n",
        "  #we will consider all examples\n",
        "  for j in range(df.shape[0]):\n",
        "\n",
        "    X = df[['CGPA', 'Resume_score']].values[j].reshape(2,1) # Shape(no of features, no. of training example)\n",
        "    y = df[['LPA']].values[j][0]\n",
        "\n",
        "    y_hat,A1 = L_layer_forwar_prop(X,parameters)\n",
        "    #extracting y_hat\n",
        "    y_hat = y_hat[0][0]\n",
        "\n",
        "    #updating the parameters\n",
        "    update_parameters(parameters,y,y_hat,A1,X)\n",
        "\n",
        "    #appending the loss of each example\n",
        "    Loss.append((y-y_hat)**2)\n",
        "\n",
        "  print('Epoch - ',i+1,'Loss - ',np.array(Loss).mean())\n",
        "\n",
        "parameters"
      ],
      "metadata": {
        "colab": {
          "base_uri": "https://localhost:8080/"
        },
        "id": "-ePJp-Z7geWZ",
        "outputId": "85a69e07-de61-47dd-b68a-eeb29d93966b"
      },
      "execution_count": 34,
      "outputs": [
        {
          "output_type": "stream",
          "name": "stdout",
          "text": [
            "Epoch -  1 Loss -  25.405116937301145\n",
            "Epoch -  2 Loss -  19.34045598599946\n",
            "Epoch -  3 Loss -  11.742224357705648\n",
            "Epoch -  4 Loss -  5.286130313056807\n",
            "Epoch -  5 Loss -  2.155173447583169\n"
          ]
        },
        {
          "output_type": "execute_result",
          "data": {
            "text/plain": [
              "{'W1': array([[0.29869661, 0.43946199],\n",
              "        [0.29869661, 0.43946199]]),\n",
              " 'b1': array([[0.03284641],\n",
              "        [0.03284641]]),\n",
              " 'W2': array([[0.46364102],\n",
              "        [0.46364102]]),\n",
              " 'b2': array([[0.46802304]])}"
            ]
          },
          "metadata": {},
          "execution_count": 34
        }
      ]
    },
    {
      "cell_type": "markdown",
      "source": [
        "# Training a Keras Neural Network for Comparison"
      ],
      "metadata": {
        "id": "BiXTh57MsswJ"
      }
    },
    {
      "cell_type": "code",
      "source": [
        "import tensorflow\n",
        "from tensorflow import keras\n",
        "from keras import Sequential\n",
        "from keras.layers import Dense"
      ],
      "metadata": {
        "id": "8v2nP6WjhGJS"
      },
      "execution_count": 35,
      "outputs": []
    },
    {
      "cell_type": "code",
      "source": [
        "model = Sequential()\n",
        "\n",
        "#as out architecture was [2,2,1]\n",
        "model.add(Dense(2, activation= 'linear', input_dim= 2))\n",
        "model.add(Dense(1, activation= 'linear'))"
      ],
      "metadata": {
        "id": "--kjmU2XtOOH"
      },
      "execution_count": 36,
      "outputs": []
    },
    {
      "cell_type": "code",
      "source": [
        "model.summary()"
      ],
      "metadata": {
        "colab": {
          "base_uri": "https://localhost:8080/"
        },
        "id": "nbMSjv-RuJY5",
        "outputId": "a9a57aa0-2341-4f18-8b78-2e58517ae3d2"
      },
      "execution_count": 37,
      "outputs": [
        {
          "output_type": "stream",
          "name": "stdout",
          "text": [
            "Model: \"sequential\"\n",
            "_________________________________________________________________\n",
            " Layer (type)                Output Shape              Param #   \n",
            "=================================================================\n",
            " dense (Dense)               (None, 2)                 6         \n",
            "                                                                 \n",
            " dense_1 (Dense)             (None, 1)                 3         \n",
            "                                                                 \n",
            "=================================================================\n",
            "Total params: 9 (36.00 Byte)\n",
            "Trainable params: 9 (36.00 Byte)\n",
            "Non-trainable params: 0 (0.00 Byte)\n",
            "_________________________________________________________________\n"
          ]
        }
      ]
    },
    {
      "cell_type": "code",
      "source": [
        "#initial wrights that keras gave to each parameter\n",
        "model.get_weights()"
      ],
      "metadata": {
        "colab": {
          "base_uri": "https://localhost:8080/"
        },
        "id": "82eBlA6DuLZA",
        "outputId": "54863f2f-109b-4dea-aa07-418d18cc32d5"
      },
      "execution_count": 38,
      "outputs": [
        {
          "output_type": "execute_result",
          "data": {
            "text/plain": [
              "[array([[-0.32907248,  0.37544155],\n",
              "        [ 0.30439687, -0.02102852]], dtype=float32),\n",
              " array([0., 0.], dtype=float32),\n",
              " array([[-1.1060017 ],\n",
              "        [-0.26510096]], dtype=float32),\n",
              " array([0.], dtype=float32)]"
            ]
          },
          "metadata": {},
          "execution_count": 38
        }
      ]
    },
    {
      "cell_type": "code",
      "source": [
        "#lets set these weights to 0.1 as we did above to make the initial weights similar\n",
        "new_weights= [np.array([[0.1, 0.1],\n",
        "                        [0.1, 0.1]], dtype= np.float32),\n",
        "              np.array([0., 0.], dtype= np.float32),\n",
        "\n",
        "              np.array([[0.1],\n",
        "                        [0.1]], dtype= np.float32),\n",
        "              np.array([0.], dtype= np.float32)]"
      ],
      "metadata": {
        "id": "9eUcg4soubsw"
      },
      "execution_count": 39,
      "outputs": []
    },
    {
      "cell_type": "code",
      "source": [
        "#setting the initial weights to weights that we have defined\n",
        "model.set_weights(new_weights)"
      ],
      "metadata": {
        "id": "EJQhrX2SvkdB"
      },
      "execution_count": 40,
      "outputs": []
    },
    {
      "cell_type": "code",
      "source": [
        "#now if we see weights\n",
        "model.get_weights()"
      ],
      "metadata": {
        "colab": {
          "base_uri": "https://localhost:8080/"
        },
        "id": "X0MCTPF0vuRn",
        "outputId": "e65eb429-f0cb-4272-95ad-fa4ab3e9c700"
      },
      "execution_count": 42,
      "outputs": [
        {
          "output_type": "execute_result",
          "data": {
            "text/plain": [
              "[array([[0.1, 0.1],\n",
              "        [0.1, 0.1]], dtype=float32),\n",
              " array([0., 0.], dtype=float32),\n",
              " array([[0.1],\n",
              "        [0.1]], dtype=float32),\n",
              " array([0.], dtype=float32)]"
            ]
          },
          "metadata": {},
          "execution_count": 42
        }
      ]
    },
    {
      "cell_type": "code",
      "source": [
        "#as we had learning rate of 0.001\n",
        "optimizer= keras.optimizers.Adam(learning_rate= 0.001)\n",
        "\n",
        "#compiling the model with mse loss function\n",
        "model.compile(loss= 'mean_squared_error', optimizer= optimizer)"
      ],
      "metadata": {
        "id": "8abhGfiEvy_f"
      },
      "execution_count": 43,
      "outputs": []
    },
    {
      "cell_type": "code",
      "source": [
        "#first two columns values\n",
        "x= df.iloc[:, 0:2].values\n",
        "#LPa column is our label column\n",
        "y= df['LPA'].values"
      ],
      "metadata": {
        "id": "NSToqY3_wcF6"
      },
      "execution_count": 51,
      "outputs": []
    },
    {
      "cell_type": "code",
      "source": [
        "x"
      ],
      "metadata": {
        "colab": {
          "base_uri": "https://localhost:8080/"
        },
        "id": "DP0H_jE3wvyw",
        "outputId": "f395f531-0b2e-4eb0-d24e-5465aba8045e"
      },
      "execution_count": 52,
      "outputs": [
        {
          "output_type": "execute_result",
          "data": {
            "text/plain": [
              "array([[ 8,  8],\n",
              "       [ 7,  9],\n",
              "       [ 6, 10],\n",
              "       [ 5, 12]])"
            ]
          },
          "metadata": {},
          "execution_count": 52
        }
      ]
    },
    {
      "cell_type": "code",
      "source": [
        "y"
      ],
      "metadata": {
        "colab": {
          "base_uri": "https://localhost:8080/"
        },
        "id": "-HJp2XL-w8kO",
        "outputId": "9854c199-2691-4e2b-9b34-c5c0ea63761e"
      },
      "execution_count": 53,
      "outputs": [
        {
          "output_type": "execute_result",
          "data": {
            "text/plain": [
              "array([4, 5, 6, 7])"
            ]
          },
          "metadata": {},
          "execution_count": 53
        }
      ]
    },
    {
      "cell_type": "code",
      "source": [
        "#training model over our data\n",
        "model.fit(x, y, epochs= 65, verbose= 1, batch_size= 1)"
      ],
      "metadata": {
        "colab": {
          "base_uri": "https://localhost:8080/"
        },
        "id": "Uhx6uVbRwQbQ",
        "outputId": "cbf7f256-4e9d-4cc5-e6ac-f93eed000adb"
      },
      "execution_count": 59,
      "outputs": [
        {
          "output_type": "stream",
          "name": "stdout",
          "text": [
            "Epoch 1/65\n",
            "4/4 [==============================] - 0s 10ms/step - loss: 1.0142\n",
            "Epoch 2/65\n",
            "4/4 [==============================] - 0s 17ms/step - loss: 1.0113\n",
            "Epoch 3/65\n",
            "4/4 [==============================] - 0s 12ms/step - loss: 1.0072\n",
            "Epoch 4/65\n",
            "4/4 [==============================] - 0s 13ms/step - loss: 1.0061\n",
            "Epoch 5/65\n",
            "4/4 [==============================] - 0s 13ms/step - loss: 1.0081\n",
            "Epoch 6/65\n",
            "4/4 [==============================] - 0s 10ms/step - loss: 1.0040\n",
            "Epoch 7/65\n",
            "4/4 [==============================] - 0s 15ms/step - loss: 0.9983\n",
            "Epoch 8/65\n",
            "4/4 [==============================] - 0s 14ms/step - loss: 0.9970\n",
            "Epoch 9/65\n",
            "4/4 [==============================] - 0s 11ms/step - loss: 0.9952\n",
            "Epoch 10/65\n",
            "4/4 [==============================] - 0s 21ms/step - loss: 0.9923\n",
            "Epoch 11/65\n",
            "4/4 [==============================] - 0s 12ms/step - loss: 0.9921\n",
            "Epoch 12/65\n",
            "4/4 [==============================] - 0s 7ms/step - loss: 0.9903\n",
            "Epoch 13/65\n",
            "4/4 [==============================] - 0s 10ms/step - loss: 0.9924\n",
            "Epoch 14/65\n",
            "4/4 [==============================] - 0s 14ms/step - loss: 0.9875\n",
            "Epoch 15/65\n",
            "4/4 [==============================] - 0s 14ms/step - loss: 0.9825\n",
            "Epoch 16/65\n",
            "4/4 [==============================] - 0s 14ms/step - loss: 0.9838\n",
            "Epoch 17/65\n",
            "4/4 [==============================] - 0s 14ms/step - loss: 0.9796\n",
            "Epoch 18/65\n",
            "4/4 [==============================] - 0s 14ms/step - loss: 0.9774\n",
            "Epoch 19/65\n",
            "4/4 [==============================] - 0s 8ms/step - loss: 0.9761\n",
            "Epoch 20/65\n",
            "4/4 [==============================] - 0s 7ms/step - loss: 0.9770\n",
            "Epoch 21/65\n",
            "4/4 [==============================] - 0s 5ms/step - loss: 0.9737\n",
            "Epoch 22/65\n",
            "4/4 [==============================] - 0s 6ms/step - loss: 0.9749\n",
            "Epoch 23/65\n",
            "4/4 [==============================] - 0s 5ms/step - loss: 0.9682\n",
            "Epoch 24/65\n",
            "4/4 [==============================] - 0s 8ms/step - loss: 0.9675\n",
            "Epoch 25/65\n",
            "4/4 [==============================] - 0s 5ms/step - loss: 0.9688\n",
            "Epoch 26/65\n",
            "4/4 [==============================] - 0s 5ms/step - loss: 0.9647\n",
            "Epoch 27/65\n",
            "4/4 [==============================] - 0s 7ms/step - loss: 0.9622\n",
            "Epoch 28/65\n",
            "4/4 [==============================] - 0s 7ms/step - loss: 0.9597\n",
            "Epoch 29/65\n",
            "4/4 [==============================] - 0s 8ms/step - loss: 0.9619\n",
            "Epoch 30/65\n",
            "4/4 [==============================] - 0s 7ms/step - loss: 0.9571\n",
            "Epoch 31/65\n",
            "4/4 [==============================] - 0s 10ms/step - loss: 0.9547\n",
            "Epoch 32/65\n",
            "4/4 [==============================] - 0s 5ms/step - loss: 0.9528\n",
            "Epoch 33/65\n",
            "4/4 [==============================] - 0s 6ms/step - loss: 0.9535\n",
            "Epoch 34/65\n",
            "4/4 [==============================] - 0s 6ms/step - loss: 0.9490\n",
            "Epoch 35/65\n",
            "4/4 [==============================] - 0s 6ms/step - loss: 0.9498\n",
            "Epoch 36/65\n",
            "4/4 [==============================] - 0s 5ms/step - loss: 0.9461\n",
            "Epoch 37/65\n",
            "4/4 [==============================] - 0s 4ms/step - loss: 0.9463\n",
            "Epoch 38/65\n",
            "4/4 [==============================] - 0s 4ms/step - loss: 0.9469\n",
            "Epoch 39/65\n",
            "4/4 [==============================] - 0s 4ms/step - loss: 0.9425\n",
            "Epoch 40/65\n",
            "4/4 [==============================] - 0s 5ms/step - loss: 0.9387\n",
            "Epoch 41/65\n",
            "4/4 [==============================] - 0s 6ms/step - loss: 0.9379\n",
            "Epoch 42/65\n",
            "4/4 [==============================] - 0s 4ms/step - loss: 0.9392\n",
            "Epoch 43/65\n",
            "4/4 [==============================] - 0s 4ms/step - loss: 0.9352\n",
            "Epoch 44/65\n",
            "4/4 [==============================] - 0s 4ms/step - loss: 0.9334\n",
            "Epoch 45/65\n",
            "4/4 [==============================] - 0s 6ms/step - loss: 0.9305\n",
            "Epoch 46/65\n",
            "4/4 [==============================] - 0s 4ms/step - loss: 0.9313\n",
            "Epoch 47/65\n",
            "4/4 [==============================] - 0s 4ms/step - loss: 0.9278\n",
            "Epoch 48/65\n",
            "4/4 [==============================] - 0s 4ms/step - loss: 0.9275\n",
            "Epoch 49/65\n",
            "4/4 [==============================] - 0s 5ms/step - loss: 0.9242\n",
            "Epoch 50/65\n",
            "4/4 [==============================] - 0s 5ms/step - loss: 0.9247\n",
            "Epoch 51/65\n",
            "4/4 [==============================] - 0s 4ms/step - loss: 0.9204\n",
            "Epoch 52/65\n",
            "4/4 [==============================] - 0s 4ms/step - loss: 0.9219\n",
            "Epoch 53/65\n",
            "4/4 [==============================] - 0s 3ms/step - loss: 0.9176\n",
            "Epoch 54/65\n",
            "4/4 [==============================] - 0s 3ms/step - loss: 0.9161\n",
            "Epoch 55/65\n",
            "4/4 [==============================] - 0s 3ms/step - loss: 0.9131\n",
            "Epoch 56/65\n",
            "4/4 [==============================] - 0s 4ms/step - loss: 0.9129\n",
            "Epoch 57/65\n",
            "4/4 [==============================] - 0s 4ms/step - loss: 0.9100\n",
            "Epoch 58/65\n",
            "4/4 [==============================] - 0s 3ms/step - loss: 0.9087\n",
            "Epoch 59/65\n",
            "4/4 [==============================] - 0s 4ms/step - loss: 0.9098\n",
            "Epoch 60/65\n",
            "4/4 [==============================] - 0s 4ms/step - loss: 0.9055\n",
            "Epoch 61/65\n",
            "4/4 [==============================] - 0s 4ms/step - loss: 0.9046\n",
            "Epoch 62/65\n",
            "4/4 [==============================] - 0s 4ms/step - loss: 0.9003\n",
            "Epoch 63/65\n",
            "4/4 [==============================] - 0s 4ms/step - loss: 0.9005\n",
            "Epoch 64/65\n",
            "4/4 [==============================] - 0s 4ms/step - loss: 0.8969\n",
            "Epoch 65/65\n",
            "4/4 [==============================] - 0s 3ms/step - loss: 0.8971\n"
          ]
        },
        {
          "output_type": "execute_result",
          "data": {
            "text/plain": [
              "<keras.src.callbacks.History at 0x7b8b627f8850>"
            ]
          },
          "metadata": {},
          "execution_count": 59
        }
      ]
    },
    {
      "cell_type": "code",
      "source": [],
      "metadata": {
        "id": "66u-pe_sxELX"
      },
      "execution_count": null,
      "outputs": []
    }
  ]
}