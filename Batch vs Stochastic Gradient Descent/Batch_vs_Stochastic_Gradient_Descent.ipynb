{
  "cells": [
    {
      "cell_type": "code",
      "execution_count": 20,
      "id": "4cff9661",
      "metadata": {
        "id": "4cff9661"
      },
      "outputs": [],
      "source": [
        "import numpy as np\n",
        "import pandas as pd\n",
        "#for comparison\n",
        "import time\n",
        "import matplotlib.pyplot as plt"
      ]
    },
    {
      "cell_type": "code",
      "source": [
        "from google.colab import drive\n",
        "drive.mount(\"/content/gdrive\")"
      ],
      "metadata": {
        "colab": {
          "base_uri": "https://localhost:8080/"
        },
        "id": "5R8hCMBPrf-M",
        "outputId": "d6056b1a-7c58-46e5-b75b-09cc219a9533"
      },
      "id": "5R8hCMBPrf-M",
      "execution_count": 2,
      "outputs": [
        {
          "output_type": "stream",
          "name": "stdout",
          "text": [
            "Mounted at /content/gdrive\n"
          ]
        }
      ]
    },
    {
      "cell_type": "code",
      "execution_count": 3,
      "id": "097ed672",
      "metadata": {
        "id": "097ed672"
      },
      "outputs": [],
      "source": [
        "#importing dataset\n",
        "df = pd.read_csv('/content/gdrive/My Drive/Colab Notebooks/Neural Networks/Gradient Descent/Social_Network_Ads.csv')"
      ]
    },
    {
      "cell_type": "code",
      "execution_count": 4,
      "id": "54c4b0c3",
      "metadata": {
        "colab": {
          "base_uri": "https://localhost:8080/",
          "height": 206
        },
        "id": "54c4b0c3",
        "outputId": "fe1ce6f1-1eca-4283-8717-b7b6d0ef6d36"
      },
      "outputs": [
        {
          "output_type": "execute_result",
          "data": {
            "text/plain": [
              "    User ID  Gender  Age  EstimatedSalary  Purchased\n",
              "0  15624510    Male   19            19000          0\n",
              "1  15810944    Male   35            20000          0\n",
              "2  15668575  Female   26            43000          0\n",
              "3  15603246  Female   27            57000          0\n",
              "4  15804002    Male   19            76000          0"
            ],
            "text/html": [
              "\n",
              "  <div id=\"df-3cb7ebf4-751a-4cf3-82de-93be5af57e25\" class=\"colab-df-container\">\n",
              "    <div>\n",
              "<style scoped>\n",
              "    .dataframe tbody tr th:only-of-type {\n",
              "        vertical-align: middle;\n",
              "    }\n",
              "\n",
              "    .dataframe tbody tr th {\n",
              "        vertical-align: top;\n",
              "    }\n",
              "\n",
              "    .dataframe thead th {\n",
              "        text-align: right;\n",
              "    }\n",
              "</style>\n",
              "<table border=\"1\" class=\"dataframe\">\n",
              "  <thead>\n",
              "    <tr style=\"text-align: right;\">\n",
              "      <th></th>\n",
              "      <th>User ID</th>\n",
              "      <th>Gender</th>\n",
              "      <th>Age</th>\n",
              "      <th>EstimatedSalary</th>\n",
              "      <th>Purchased</th>\n",
              "    </tr>\n",
              "  </thead>\n",
              "  <tbody>\n",
              "    <tr>\n",
              "      <th>0</th>\n",
              "      <td>15624510</td>\n",
              "      <td>Male</td>\n",
              "      <td>19</td>\n",
              "      <td>19000</td>\n",
              "      <td>0</td>\n",
              "    </tr>\n",
              "    <tr>\n",
              "      <th>1</th>\n",
              "      <td>15810944</td>\n",
              "      <td>Male</td>\n",
              "      <td>35</td>\n",
              "      <td>20000</td>\n",
              "      <td>0</td>\n",
              "    </tr>\n",
              "    <tr>\n",
              "      <th>2</th>\n",
              "      <td>15668575</td>\n",
              "      <td>Female</td>\n",
              "      <td>26</td>\n",
              "      <td>43000</td>\n",
              "      <td>0</td>\n",
              "    </tr>\n",
              "    <tr>\n",
              "      <th>3</th>\n",
              "      <td>15603246</td>\n",
              "      <td>Female</td>\n",
              "      <td>27</td>\n",
              "      <td>57000</td>\n",
              "      <td>0</td>\n",
              "    </tr>\n",
              "    <tr>\n",
              "      <th>4</th>\n",
              "      <td>15804002</td>\n",
              "      <td>Male</td>\n",
              "      <td>19</td>\n",
              "      <td>76000</td>\n",
              "      <td>0</td>\n",
              "    </tr>\n",
              "  </tbody>\n",
              "</table>\n",
              "</div>\n",
              "    <div class=\"colab-df-buttons\">\n",
              "\n",
              "  <div class=\"colab-df-container\">\n",
              "    <button class=\"colab-df-convert\" onclick=\"convertToInteractive('df-3cb7ebf4-751a-4cf3-82de-93be5af57e25')\"\n",
              "            title=\"Convert this dataframe to an interactive table.\"\n",
              "            style=\"display:none;\">\n",
              "\n",
              "  <svg xmlns=\"http://www.w3.org/2000/svg\" height=\"24px\" viewBox=\"0 -960 960 960\">\n",
              "    <path d=\"M120-120v-720h720v720H120Zm60-500h600v-160H180v160Zm220 220h160v-160H400v160Zm0 220h160v-160H400v160ZM180-400h160v-160H180v160Zm440 0h160v-160H620v160ZM180-180h160v-160H180v160Zm440 0h160v-160H620v160Z\"/>\n",
              "  </svg>\n",
              "    </button>\n",
              "\n",
              "  <style>\n",
              "    .colab-df-container {\n",
              "      display:flex;\n",
              "      gap: 12px;\n",
              "    }\n",
              "\n",
              "    .colab-df-convert {\n",
              "      background-color: #E8F0FE;\n",
              "      border: none;\n",
              "      border-radius: 50%;\n",
              "      cursor: pointer;\n",
              "      display: none;\n",
              "      fill: #1967D2;\n",
              "      height: 32px;\n",
              "      padding: 0 0 0 0;\n",
              "      width: 32px;\n",
              "    }\n",
              "\n",
              "    .colab-df-convert:hover {\n",
              "      background-color: #E2EBFA;\n",
              "      box-shadow: 0px 1px 2px rgba(60, 64, 67, 0.3), 0px 1px 3px 1px rgba(60, 64, 67, 0.15);\n",
              "      fill: #174EA6;\n",
              "    }\n",
              "\n",
              "    .colab-df-buttons div {\n",
              "      margin-bottom: 4px;\n",
              "    }\n",
              "\n",
              "    [theme=dark] .colab-df-convert {\n",
              "      background-color: #3B4455;\n",
              "      fill: #D2E3FC;\n",
              "    }\n",
              "\n",
              "    [theme=dark] .colab-df-convert:hover {\n",
              "      background-color: #434B5C;\n",
              "      box-shadow: 0px 1px 3px 1px rgba(0, 0, 0, 0.15);\n",
              "      filter: drop-shadow(0px 1px 2px rgba(0, 0, 0, 0.3));\n",
              "      fill: #FFFFFF;\n",
              "    }\n",
              "  </style>\n",
              "\n",
              "    <script>\n",
              "      const buttonEl =\n",
              "        document.querySelector('#df-3cb7ebf4-751a-4cf3-82de-93be5af57e25 button.colab-df-convert');\n",
              "      buttonEl.style.display =\n",
              "        google.colab.kernel.accessAllowed ? 'block' : 'none';\n",
              "\n",
              "      async function convertToInteractive(key) {\n",
              "        const element = document.querySelector('#df-3cb7ebf4-751a-4cf3-82de-93be5af57e25');\n",
              "        const dataTable =\n",
              "          await google.colab.kernel.invokeFunction('convertToInteractive',\n",
              "                                                    [key], {});\n",
              "        if (!dataTable) return;\n",
              "\n",
              "        const docLinkHtml = 'Like what you see? Visit the ' +\n",
              "          '<a target=\"_blank\" href=https://colab.research.google.com/notebooks/data_table.ipynb>data table notebook</a>'\n",
              "          + ' to learn more about interactive tables.';\n",
              "        element.innerHTML = '';\n",
              "        dataTable['output_type'] = 'display_data';\n",
              "        await google.colab.output.renderOutput(dataTable, element);\n",
              "        const docLink = document.createElement('div');\n",
              "        docLink.innerHTML = docLinkHtml;\n",
              "        element.appendChild(docLink);\n",
              "      }\n",
              "    </script>\n",
              "  </div>\n",
              "\n",
              "\n",
              "<div id=\"df-f998401a-343c-4723-9c00-80f17b6f8459\">\n",
              "  <button class=\"colab-df-quickchart\" onclick=\"quickchart('df-f998401a-343c-4723-9c00-80f17b6f8459')\"\n",
              "            title=\"Suggest charts.\"\n",
              "            style=\"display:none;\">\n",
              "\n",
              "<svg xmlns=\"http://www.w3.org/2000/svg\" height=\"24px\"viewBox=\"0 0 24 24\"\n",
              "     width=\"24px\">\n",
              "    <g>\n",
              "        <path d=\"M19 3H5c-1.1 0-2 .9-2 2v14c0 1.1.9 2 2 2h14c1.1 0 2-.9 2-2V5c0-1.1-.9-2-2-2zM9 17H7v-7h2v7zm4 0h-2V7h2v10zm4 0h-2v-4h2v4z\"/>\n",
              "    </g>\n",
              "</svg>\n",
              "  </button>\n",
              "\n",
              "<style>\n",
              "  .colab-df-quickchart {\n",
              "      --bg-color: #E8F0FE;\n",
              "      --fill-color: #1967D2;\n",
              "      --hover-bg-color: #E2EBFA;\n",
              "      --hover-fill-color: #174EA6;\n",
              "      --disabled-fill-color: #AAA;\n",
              "      --disabled-bg-color: #DDD;\n",
              "  }\n",
              "\n",
              "  [theme=dark] .colab-df-quickchart {\n",
              "      --bg-color: #3B4455;\n",
              "      --fill-color: #D2E3FC;\n",
              "      --hover-bg-color: #434B5C;\n",
              "      --hover-fill-color: #FFFFFF;\n",
              "      --disabled-bg-color: #3B4455;\n",
              "      --disabled-fill-color: #666;\n",
              "  }\n",
              "\n",
              "  .colab-df-quickchart {\n",
              "    background-color: var(--bg-color);\n",
              "    border: none;\n",
              "    border-radius: 50%;\n",
              "    cursor: pointer;\n",
              "    display: none;\n",
              "    fill: var(--fill-color);\n",
              "    height: 32px;\n",
              "    padding: 0;\n",
              "    width: 32px;\n",
              "  }\n",
              "\n",
              "  .colab-df-quickchart:hover {\n",
              "    background-color: var(--hover-bg-color);\n",
              "    box-shadow: 0 1px 2px rgba(60, 64, 67, 0.3), 0 1px 3px 1px rgba(60, 64, 67, 0.15);\n",
              "    fill: var(--button-hover-fill-color);\n",
              "  }\n",
              "\n",
              "  .colab-df-quickchart-complete:disabled,\n",
              "  .colab-df-quickchart-complete:disabled:hover {\n",
              "    background-color: var(--disabled-bg-color);\n",
              "    fill: var(--disabled-fill-color);\n",
              "    box-shadow: none;\n",
              "  }\n",
              "\n",
              "  .colab-df-spinner {\n",
              "    border: 2px solid var(--fill-color);\n",
              "    border-color: transparent;\n",
              "    border-bottom-color: var(--fill-color);\n",
              "    animation:\n",
              "      spin 1s steps(1) infinite;\n",
              "  }\n",
              "\n",
              "  @keyframes spin {\n",
              "    0% {\n",
              "      border-color: transparent;\n",
              "      border-bottom-color: var(--fill-color);\n",
              "      border-left-color: var(--fill-color);\n",
              "    }\n",
              "    20% {\n",
              "      border-color: transparent;\n",
              "      border-left-color: var(--fill-color);\n",
              "      border-top-color: var(--fill-color);\n",
              "    }\n",
              "    30% {\n",
              "      border-color: transparent;\n",
              "      border-left-color: var(--fill-color);\n",
              "      border-top-color: var(--fill-color);\n",
              "      border-right-color: var(--fill-color);\n",
              "    }\n",
              "    40% {\n",
              "      border-color: transparent;\n",
              "      border-right-color: var(--fill-color);\n",
              "      border-top-color: var(--fill-color);\n",
              "    }\n",
              "    60% {\n",
              "      border-color: transparent;\n",
              "      border-right-color: var(--fill-color);\n",
              "    }\n",
              "    80% {\n",
              "      border-color: transparent;\n",
              "      border-right-color: var(--fill-color);\n",
              "      border-bottom-color: var(--fill-color);\n",
              "    }\n",
              "    90% {\n",
              "      border-color: transparent;\n",
              "      border-bottom-color: var(--fill-color);\n",
              "    }\n",
              "  }\n",
              "</style>\n",
              "\n",
              "  <script>\n",
              "    async function quickchart(key) {\n",
              "      const quickchartButtonEl =\n",
              "        document.querySelector('#' + key + ' button');\n",
              "      quickchartButtonEl.disabled = true;  // To prevent multiple clicks.\n",
              "      quickchartButtonEl.classList.add('colab-df-spinner');\n",
              "      try {\n",
              "        const charts = await google.colab.kernel.invokeFunction(\n",
              "            'suggestCharts', [key], {});\n",
              "      } catch (error) {\n",
              "        console.error('Error during call to suggestCharts:', error);\n",
              "      }\n",
              "      quickchartButtonEl.classList.remove('colab-df-spinner');\n",
              "      quickchartButtonEl.classList.add('colab-df-quickchart-complete');\n",
              "    }\n",
              "    (() => {\n",
              "      let quickchartButtonEl =\n",
              "        document.querySelector('#df-f998401a-343c-4723-9c00-80f17b6f8459 button');\n",
              "      quickchartButtonEl.style.display =\n",
              "        google.colab.kernel.accessAllowed ? 'block' : 'none';\n",
              "    })();\n",
              "  </script>\n",
              "</div>\n",
              "    </div>\n",
              "  </div>\n"
            ]
          },
          "metadata": {},
          "execution_count": 4
        }
      ],
      "source": [
        "df.head()"
      ]
    },
    {
      "cell_type": "code",
      "execution_count": 5,
      "id": "51e977dc",
      "metadata": {
        "id": "51e977dc"
      },
      "outputs": [],
      "source": [
        "#drop User Id as we dont need it\n",
        "del df['User ID']\n",
        "#dropping gender too, incase to remove bias\n",
        "del df['Gender']"
      ]
    },
    {
      "cell_type": "code",
      "execution_count": 6,
      "id": "c6b8ebc1",
      "metadata": {
        "scrolled": true,
        "colab": {
          "base_uri": "https://localhost:8080/",
          "height": 206
        },
        "id": "c6b8ebc1",
        "outputId": "fd79bc2c-1ad2-4aeb-8023-ae806a4dc619"
      },
      "outputs": [
        {
          "output_type": "execute_result",
          "data": {
            "text/plain": [
              "   Age  EstimatedSalary  Purchased\n",
              "0   19            19000          0\n",
              "1   35            20000          0\n",
              "2   26            43000          0\n",
              "3   27            57000          0\n",
              "4   19            76000          0"
            ],
            "text/html": [
              "\n",
              "  <div id=\"df-33eb96fe-9ec3-4e1d-8d94-cf25ccef43a2\" class=\"colab-df-container\">\n",
              "    <div>\n",
              "<style scoped>\n",
              "    .dataframe tbody tr th:only-of-type {\n",
              "        vertical-align: middle;\n",
              "    }\n",
              "\n",
              "    .dataframe tbody tr th {\n",
              "        vertical-align: top;\n",
              "    }\n",
              "\n",
              "    .dataframe thead th {\n",
              "        text-align: right;\n",
              "    }\n",
              "</style>\n",
              "<table border=\"1\" class=\"dataframe\">\n",
              "  <thead>\n",
              "    <tr style=\"text-align: right;\">\n",
              "      <th></th>\n",
              "      <th>Age</th>\n",
              "      <th>EstimatedSalary</th>\n",
              "      <th>Purchased</th>\n",
              "    </tr>\n",
              "  </thead>\n",
              "  <tbody>\n",
              "    <tr>\n",
              "      <th>0</th>\n",
              "      <td>19</td>\n",
              "      <td>19000</td>\n",
              "      <td>0</td>\n",
              "    </tr>\n",
              "    <tr>\n",
              "      <th>1</th>\n",
              "      <td>35</td>\n",
              "      <td>20000</td>\n",
              "      <td>0</td>\n",
              "    </tr>\n",
              "    <tr>\n",
              "      <th>2</th>\n",
              "      <td>26</td>\n",
              "      <td>43000</td>\n",
              "      <td>0</td>\n",
              "    </tr>\n",
              "    <tr>\n",
              "      <th>3</th>\n",
              "      <td>27</td>\n",
              "      <td>57000</td>\n",
              "      <td>0</td>\n",
              "    </tr>\n",
              "    <tr>\n",
              "      <th>4</th>\n",
              "      <td>19</td>\n",
              "      <td>76000</td>\n",
              "      <td>0</td>\n",
              "    </tr>\n",
              "  </tbody>\n",
              "</table>\n",
              "</div>\n",
              "    <div class=\"colab-df-buttons\">\n",
              "\n",
              "  <div class=\"colab-df-container\">\n",
              "    <button class=\"colab-df-convert\" onclick=\"convertToInteractive('df-33eb96fe-9ec3-4e1d-8d94-cf25ccef43a2')\"\n",
              "            title=\"Convert this dataframe to an interactive table.\"\n",
              "            style=\"display:none;\">\n",
              "\n",
              "  <svg xmlns=\"http://www.w3.org/2000/svg\" height=\"24px\" viewBox=\"0 -960 960 960\">\n",
              "    <path d=\"M120-120v-720h720v720H120Zm60-500h600v-160H180v160Zm220 220h160v-160H400v160Zm0 220h160v-160H400v160ZM180-400h160v-160H180v160Zm440 0h160v-160H620v160ZM180-180h160v-160H180v160Zm440 0h160v-160H620v160Z\"/>\n",
              "  </svg>\n",
              "    </button>\n",
              "\n",
              "  <style>\n",
              "    .colab-df-container {\n",
              "      display:flex;\n",
              "      gap: 12px;\n",
              "    }\n",
              "\n",
              "    .colab-df-convert {\n",
              "      background-color: #E8F0FE;\n",
              "      border: none;\n",
              "      border-radius: 50%;\n",
              "      cursor: pointer;\n",
              "      display: none;\n",
              "      fill: #1967D2;\n",
              "      height: 32px;\n",
              "      padding: 0 0 0 0;\n",
              "      width: 32px;\n",
              "    }\n",
              "\n",
              "    .colab-df-convert:hover {\n",
              "      background-color: #E2EBFA;\n",
              "      box-shadow: 0px 1px 2px rgba(60, 64, 67, 0.3), 0px 1px 3px 1px rgba(60, 64, 67, 0.15);\n",
              "      fill: #174EA6;\n",
              "    }\n",
              "\n",
              "    .colab-df-buttons div {\n",
              "      margin-bottom: 4px;\n",
              "    }\n",
              "\n",
              "    [theme=dark] .colab-df-convert {\n",
              "      background-color: #3B4455;\n",
              "      fill: #D2E3FC;\n",
              "    }\n",
              "\n",
              "    [theme=dark] .colab-df-convert:hover {\n",
              "      background-color: #434B5C;\n",
              "      box-shadow: 0px 1px 3px 1px rgba(0, 0, 0, 0.15);\n",
              "      filter: drop-shadow(0px 1px 2px rgba(0, 0, 0, 0.3));\n",
              "      fill: #FFFFFF;\n",
              "    }\n",
              "  </style>\n",
              "\n",
              "    <script>\n",
              "      const buttonEl =\n",
              "        document.querySelector('#df-33eb96fe-9ec3-4e1d-8d94-cf25ccef43a2 button.colab-df-convert');\n",
              "      buttonEl.style.display =\n",
              "        google.colab.kernel.accessAllowed ? 'block' : 'none';\n",
              "\n",
              "      async function convertToInteractive(key) {\n",
              "        const element = document.querySelector('#df-33eb96fe-9ec3-4e1d-8d94-cf25ccef43a2');\n",
              "        const dataTable =\n",
              "          await google.colab.kernel.invokeFunction('convertToInteractive',\n",
              "                                                    [key], {});\n",
              "        if (!dataTable) return;\n",
              "\n",
              "        const docLinkHtml = 'Like what you see? Visit the ' +\n",
              "          '<a target=\"_blank\" href=https://colab.research.google.com/notebooks/data_table.ipynb>data table notebook</a>'\n",
              "          + ' to learn more about interactive tables.';\n",
              "        element.innerHTML = '';\n",
              "        dataTable['output_type'] = 'display_data';\n",
              "        await google.colab.output.renderOutput(dataTable, element);\n",
              "        const docLink = document.createElement('div');\n",
              "        docLink.innerHTML = docLinkHtml;\n",
              "        element.appendChild(docLink);\n",
              "      }\n",
              "    </script>\n",
              "  </div>\n",
              "\n",
              "\n",
              "<div id=\"df-2856bb9c-281b-44fa-b6ed-bc4a6a84fc7e\">\n",
              "  <button class=\"colab-df-quickchart\" onclick=\"quickchart('df-2856bb9c-281b-44fa-b6ed-bc4a6a84fc7e')\"\n",
              "            title=\"Suggest charts.\"\n",
              "            style=\"display:none;\">\n",
              "\n",
              "<svg xmlns=\"http://www.w3.org/2000/svg\" height=\"24px\"viewBox=\"0 0 24 24\"\n",
              "     width=\"24px\">\n",
              "    <g>\n",
              "        <path d=\"M19 3H5c-1.1 0-2 .9-2 2v14c0 1.1.9 2 2 2h14c1.1 0 2-.9 2-2V5c0-1.1-.9-2-2-2zM9 17H7v-7h2v7zm4 0h-2V7h2v10zm4 0h-2v-4h2v4z\"/>\n",
              "    </g>\n",
              "</svg>\n",
              "  </button>\n",
              "\n",
              "<style>\n",
              "  .colab-df-quickchart {\n",
              "      --bg-color: #E8F0FE;\n",
              "      --fill-color: #1967D2;\n",
              "      --hover-bg-color: #E2EBFA;\n",
              "      --hover-fill-color: #174EA6;\n",
              "      --disabled-fill-color: #AAA;\n",
              "      --disabled-bg-color: #DDD;\n",
              "  }\n",
              "\n",
              "  [theme=dark] .colab-df-quickchart {\n",
              "      --bg-color: #3B4455;\n",
              "      --fill-color: #D2E3FC;\n",
              "      --hover-bg-color: #434B5C;\n",
              "      --hover-fill-color: #FFFFFF;\n",
              "      --disabled-bg-color: #3B4455;\n",
              "      --disabled-fill-color: #666;\n",
              "  }\n",
              "\n",
              "  .colab-df-quickchart {\n",
              "    background-color: var(--bg-color);\n",
              "    border: none;\n",
              "    border-radius: 50%;\n",
              "    cursor: pointer;\n",
              "    display: none;\n",
              "    fill: var(--fill-color);\n",
              "    height: 32px;\n",
              "    padding: 0;\n",
              "    width: 32px;\n",
              "  }\n",
              "\n",
              "  .colab-df-quickchart:hover {\n",
              "    background-color: var(--hover-bg-color);\n",
              "    box-shadow: 0 1px 2px rgba(60, 64, 67, 0.3), 0 1px 3px 1px rgba(60, 64, 67, 0.15);\n",
              "    fill: var(--button-hover-fill-color);\n",
              "  }\n",
              "\n",
              "  .colab-df-quickchart-complete:disabled,\n",
              "  .colab-df-quickchart-complete:disabled:hover {\n",
              "    background-color: var(--disabled-bg-color);\n",
              "    fill: var(--disabled-fill-color);\n",
              "    box-shadow: none;\n",
              "  }\n",
              "\n",
              "  .colab-df-spinner {\n",
              "    border: 2px solid var(--fill-color);\n",
              "    border-color: transparent;\n",
              "    border-bottom-color: var(--fill-color);\n",
              "    animation:\n",
              "      spin 1s steps(1) infinite;\n",
              "  }\n",
              "\n",
              "  @keyframes spin {\n",
              "    0% {\n",
              "      border-color: transparent;\n",
              "      border-bottom-color: var(--fill-color);\n",
              "      border-left-color: var(--fill-color);\n",
              "    }\n",
              "    20% {\n",
              "      border-color: transparent;\n",
              "      border-left-color: var(--fill-color);\n",
              "      border-top-color: var(--fill-color);\n",
              "    }\n",
              "    30% {\n",
              "      border-color: transparent;\n",
              "      border-left-color: var(--fill-color);\n",
              "      border-top-color: var(--fill-color);\n",
              "      border-right-color: var(--fill-color);\n",
              "    }\n",
              "    40% {\n",
              "      border-color: transparent;\n",
              "      border-right-color: var(--fill-color);\n",
              "      border-top-color: var(--fill-color);\n",
              "    }\n",
              "    60% {\n",
              "      border-color: transparent;\n",
              "      border-right-color: var(--fill-color);\n",
              "    }\n",
              "    80% {\n",
              "      border-color: transparent;\n",
              "      border-right-color: var(--fill-color);\n",
              "      border-bottom-color: var(--fill-color);\n",
              "    }\n",
              "    90% {\n",
              "      border-color: transparent;\n",
              "      border-bottom-color: var(--fill-color);\n",
              "    }\n",
              "  }\n",
              "</style>\n",
              "\n",
              "  <script>\n",
              "    async function quickchart(key) {\n",
              "      const quickchartButtonEl =\n",
              "        document.querySelector('#' + key + ' button');\n",
              "      quickchartButtonEl.disabled = true;  // To prevent multiple clicks.\n",
              "      quickchartButtonEl.classList.add('colab-df-spinner');\n",
              "      try {\n",
              "        const charts = await google.colab.kernel.invokeFunction(\n",
              "            'suggestCharts', [key], {});\n",
              "      } catch (error) {\n",
              "        console.error('Error during call to suggestCharts:', error);\n",
              "      }\n",
              "      quickchartButtonEl.classList.remove('colab-df-spinner');\n",
              "      quickchartButtonEl.classList.add('colab-df-quickchart-complete');\n",
              "    }\n",
              "    (() => {\n",
              "      let quickchartButtonEl =\n",
              "        document.querySelector('#df-2856bb9c-281b-44fa-b6ed-bc4a6a84fc7e button');\n",
              "      quickchartButtonEl.style.display =\n",
              "        google.colab.kernel.accessAllowed ? 'block' : 'none';\n",
              "    })();\n",
              "  </script>\n",
              "</div>\n",
              "    </div>\n",
              "  </div>\n"
            ]
          },
          "metadata": {},
          "execution_count": 6
        }
      ],
      "source": [
        "df.head()"
      ]
    },
    {
      "cell_type": "code",
      "execution_count": 7,
      "id": "dae8ab5a",
      "metadata": {
        "colab": {
          "base_uri": "https://localhost:8080/"
        },
        "id": "dae8ab5a",
        "outputId": "565c11a4-f926-4591-9246-9d8db7197f40"
      },
      "outputs": [
        {
          "output_type": "execute_result",
          "data": {
            "text/plain": [
              "(400, 3)"
            ]
          },
          "metadata": {},
          "execution_count": 7
        }
      ],
      "source": [
        "df.shape"
      ]
    },
    {
      "cell_type": "markdown",
      "id": "d8b5793c",
      "metadata": {
        "id": "d8b5793c"
      },
      "source": [
        "### Making Training Features and Labels"
      ]
    },
    {
      "cell_type": "markdown",
      "id": "5ad63dd4",
      "metadata": {
        "id": "5ad63dd4"
      },
      "source": [
        "We will predict either the person has purchased or not based on the Age and Estimated Slary so for that Age and Estimated Salary will be our featues and our Label will be Purchased."
      ]
    },
    {
      "cell_type": "code",
      "execution_count": 8,
      "id": "ebe7456f",
      "metadata": {
        "colab": {
          "base_uri": "https://localhost:8080/",
          "height": 206
        },
        "id": "ebe7456f",
        "outputId": "9f5ba6a4-7d9f-4456-d67d-90c90a0e8830"
      },
      "outputs": [
        {
          "output_type": "execute_result",
          "data": {
            "text/plain": [
              "   Age  EstimatedSalary\n",
              "0   19            19000\n",
              "1   35            20000\n",
              "2   26            43000\n",
              "3   27            57000\n",
              "4   19            76000"
            ],
            "text/html": [
              "\n",
              "  <div id=\"df-26373df4-dbae-450c-b4ac-3e5dcd6ce6dc\" class=\"colab-df-container\">\n",
              "    <div>\n",
              "<style scoped>\n",
              "    .dataframe tbody tr th:only-of-type {\n",
              "        vertical-align: middle;\n",
              "    }\n",
              "\n",
              "    .dataframe tbody tr th {\n",
              "        vertical-align: top;\n",
              "    }\n",
              "\n",
              "    .dataframe thead th {\n",
              "        text-align: right;\n",
              "    }\n",
              "</style>\n",
              "<table border=\"1\" class=\"dataframe\">\n",
              "  <thead>\n",
              "    <tr style=\"text-align: right;\">\n",
              "      <th></th>\n",
              "      <th>Age</th>\n",
              "      <th>EstimatedSalary</th>\n",
              "    </tr>\n",
              "  </thead>\n",
              "  <tbody>\n",
              "    <tr>\n",
              "      <th>0</th>\n",
              "      <td>19</td>\n",
              "      <td>19000</td>\n",
              "    </tr>\n",
              "    <tr>\n",
              "      <th>1</th>\n",
              "      <td>35</td>\n",
              "      <td>20000</td>\n",
              "    </tr>\n",
              "    <tr>\n",
              "      <th>2</th>\n",
              "      <td>26</td>\n",
              "      <td>43000</td>\n",
              "    </tr>\n",
              "    <tr>\n",
              "      <th>3</th>\n",
              "      <td>27</td>\n",
              "      <td>57000</td>\n",
              "    </tr>\n",
              "    <tr>\n",
              "      <th>4</th>\n",
              "      <td>19</td>\n",
              "      <td>76000</td>\n",
              "    </tr>\n",
              "  </tbody>\n",
              "</table>\n",
              "</div>\n",
              "    <div class=\"colab-df-buttons\">\n",
              "\n",
              "  <div class=\"colab-df-container\">\n",
              "    <button class=\"colab-df-convert\" onclick=\"convertToInteractive('df-26373df4-dbae-450c-b4ac-3e5dcd6ce6dc')\"\n",
              "            title=\"Convert this dataframe to an interactive table.\"\n",
              "            style=\"display:none;\">\n",
              "\n",
              "  <svg xmlns=\"http://www.w3.org/2000/svg\" height=\"24px\" viewBox=\"0 -960 960 960\">\n",
              "    <path d=\"M120-120v-720h720v720H120Zm60-500h600v-160H180v160Zm220 220h160v-160H400v160Zm0 220h160v-160H400v160ZM180-400h160v-160H180v160Zm440 0h160v-160H620v160ZM180-180h160v-160H180v160Zm440 0h160v-160H620v160Z\"/>\n",
              "  </svg>\n",
              "    </button>\n",
              "\n",
              "  <style>\n",
              "    .colab-df-container {\n",
              "      display:flex;\n",
              "      gap: 12px;\n",
              "    }\n",
              "\n",
              "    .colab-df-convert {\n",
              "      background-color: #E8F0FE;\n",
              "      border: none;\n",
              "      border-radius: 50%;\n",
              "      cursor: pointer;\n",
              "      display: none;\n",
              "      fill: #1967D2;\n",
              "      height: 32px;\n",
              "      padding: 0 0 0 0;\n",
              "      width: 32px;\n",
              "    }\n",
              "\n",
              "    .colab-df-convert:hover {\n",
              "      background-color: #E2EBFA;\n",
              "      box-shadow: 0px 1px 2px rgba(60, 64, 67, 0.3), 0px 1px 3px 1px rgba(60, 64, 67, 0.15);\n",
              "      fill: #174EA6;\n",
              "    }\n",
              "\n",
              "    .colab-df-buttons div {\n",
              "      margin-bottom: 4px;\n",
              "    }\n",
              "\n",
              "    [theme=dark] .colab-df-convert {\n",
              "      background-color: #3B4455;\n",
              "      fill: #D2E3FC;\n",
              "    }\n",
              "\n",
              "    [theme=dark] .colab-df-convert:hover {\n",
              "      background-color: #434B5C;\n",
              "      box-shadow: 0px 1px 3px 1px rgba(0, 0, 0, 0.15);\n",
              "      filter: drop-shadow(0px 1px 2px rgba(0, 0, 0, 0.3));\n",
              "      fill: #FFFFFF;\n",
              "    }\n",
              "  </style>\n",
              "\n",
              "    <script>\n",
              "      const buttonEl =\n",
              "        document.querySelector('#df-26373df4-dbae-450c-b4ac-3e5dcd6ce6dc button.colab-df-convert');\n",
              "      buttonEl.style.display =\n",
              "        google.colab.kernel.accessAllowed ? 'block' : 'none';\n",
              "\n",
              "      async function convertToInteractive(key) {\n",
              "        const element = document.querySelector('#df-26373df4-dbae-450c-b4ac-3e5dcd6ce6dc');\n",
              "        const dataTable =\n",
              "          await google.colab.kernel.invokeFunction('convertToInteractive',\n",
              "                                                    [key], {});\n",
              "        if (!dataTable) return;\n",
              "\n",
              "        const docLinkHtml = 'Like what you see? Visit the ' +\n",
              "          '<a target=\"_blank\" href=https://colab.research.google.com/notebooks/data_table.ipynb>data table notebook</a>'\n",
              "          + ' to learn more about interactive tables.';\n",
              "        element.innerHTML = '';\n",
              "        dataTable['output_type'] = 'display_data';\n",
              "        await google.colab.output.renderOutput(dataTable, element);\n",
              "        const docLink = document.createElement('div');\n",
              "        docLink.innerHTML = docLinkHtml;\n",
              "        element.appendChild(docLink);\n",
              "      }\n",
              "    </script>\n",
              "  </div>\n",
              "\n",
              "\n",
              "<div id=\"df-778e0263-581f-47ca-a2a6-3de79db4905c\">\n",
              "  <button class=\"colab-df-quickchart\" onclick=\"quickchart('df-778e0263-581f-47ca-a2a6-3de79db4905c')\"\n",
              "            title=\"Suggest charts.\"\n",
              "            style=\"display:none;\">\n",
              "\n",
              "<svg xmlns=\"http://www.w3.org/2000/svg\" height=\"24px\"viewBox=\"0 0 24 24\"\n",
              "     width=\"24px\">\n",
              "    <g>\n",
              "        <path d=\"M19 3H5c-1.1 0-2 .9-2 2v14c0 1.1.9 2 2 2h14c1.1 0 2-.9 2-2V5c0-1.1-.9-2-2-2zM9 17H7v-7h2v7zm4 0h-2V7h2v10zm4 0h-2v-4h2v4z\"/>\n",
              "    </g>\n",
              "</svg>\n",
              "  </button>\n",
              "\n",
              "<style>\n",
              "  .colab-df-quickchart {\n",
              "      --bg-color: #E8F0FE;\n",
              "      --fill-color: #1967D2;\n",
              "      --hover-bg-color: #E2EBFA;\n",
              "      --hover-fill-color: #174EA6;\n",
              "      --disabled-fill-color: #AAA;\n",
              "      --disabled-bg-color: #DDD;\n",
              "  }\n",
              "\n",
              "  [theme=dark] .colab-df-quickchart {\n",
              "      --bg-color: #3B4455;\n",
              "      --fill-color: #D2E3FC;\n",
              "      --hover-bg-color: #434B5C;\n",
              "      --hover-fill-color: #FFFFFF;\n",
              "      --disabled-bg-color: #3B4455;\n",
              "      --disabled-fill-color: #666;\n",
              "  }\n",
              "\n",
              "  .colab-df-quickchart {\n",
              "    background-color: var(--bg-color);\n",
              "    border: none;\n",
              "    border-radius: 50%;\n",
              "    cursor: pointer;\n",
              "    display: none;\n",
              "    fill: var(--fill-color);\n",
              "    height: 32px;\n",
              "    padding: 0;\n",
              "    width: 32px;\n",
              "  }\n",
              "\n",
              "  .colab-df-quickchart:hover {\n",
              "    background-color: var(--hover-bg-color);\n",
              "    box-shadow: 0 1px 2px rgba(60, 64, 67, 0.3), 0 1px 3px 1px rgba(60, 64, 67, 0.15);\n",
              "    fill: var(--button-hover-fill-color);\n",
              "  }\n",
              "\n",
              "  .colab-df-quickchart-complete:disabled,\n",
              "  .colab-df-quickchart-complete:disabled:hover {\n",
              "    background-color: var(--disabled-bg-color);\n",
              "    fill: var(--disabled-fill-color);\n",
              "    box-shadow: none;\n",
              "  }\n",
              "\n",
              "  .colab-df-spinner {\n",
              "    border: 2px solid var(--fill-color);\n",
              "    border-color: transparent;\n",
              "    border-bottom-color: var(--fill-color);\n",
              "    animation:\n",
              "      spin 1s steps(1) infinite;\n",
              "  }\n",
              "\n",
              "  @keyframes spin {\n",
              "    0% {\n",
              "      border-color: transparent;\n",
              "      border-bottom-color: var(--fill-color);\n",
              "      border-left-color: var(--fill-color);\n",
              "    }\n",
              "    20% {\n",
              "      border-color: transparent;\n",
              "      border-left-color: var(--fill-color);\n",
              "      border-top-color: var(--fill-color);\n",
              "    }\n",
              "    30% {\n",
              "      border-color: transparent;\n",
              "      border-left-color: var(--fill-color);\n",
              "      border-top-color: var(--fill-color);\n",
              "      border-right-color: var(--fill-color);\n",
              "    }\n",
              "    40% {\n",
              "      border-color: transparent;\n",
              "      border-right-color: var(--fill-color);\n",
              "      border-top-color: var(--fill-color);\n",
              "    }\n",
              "    60% {\n",
              "      border-color: transparent;\n",
              "      border-right-color: var(--fill-color);\n",
              "    }\n",
              "    80% {\n",
              "      border-color: transparent;\n",
              "      border-right-color: var(--fill-color);\n",
              "      border-bottom-color: var(--fill-color);\n",
              "    }\n",
              "    90% {\n",
              "      border-color: transparent;\n",
              "      border-bottom-color: var(--fill-color);\n",
              "    }\n",
              "  }\n",
              "</style>\n",
              "\n",
              "  <script>\n",
              "    async function quickchart(key) {\n",
              "      const quickchartButtonEl =\n",
              "        document.querySelector('#' + key + ' button');\n",
              "      quickchartButtonEl.disabled = true;  // To prevent multiple clicks.\n",
              "      quickchartButtonEl.classList.add('colab-df-spinner');\n",
              "      try {\n",
              "        const charts = await google.colab.kernel.invokeFunction(\n",
              "            'suggestCharts', [key], {});\n",
              "      } catch (error) {\n",
              "        console.error('Error during call to suggestCharts:', error);\n",
              "      }\n",
              "      quickchartButtonEl.classList.remove('colab-df-spinner');\n",
              "      quickchartButtonEl.classList.add('colab-df-quickchart-complete');\n",
              "    }\n",
              "    (() => {\n",
              "      let quickchartButtonEl =\n",
              "        document.querySelector('#df-778e0263-581f-47ca-a2a6-3de79db4905c button');\n",
              "      quickchartButtonEl.style.display =\n",
              "        google.colab.kernel.accessAllowed ? 'block' : 'none';\n",
              "    })();\n",
              "  </script>\n",
              "</div>\n",
              "    </div>\n",
              "  </div>\n"
            ]
          },
          "metadata": {},
          "execution_count": 8
        }
      ],
      "source": [
        "x= df[['Age', 'EstimatedSalary']]\n",
        "x.head()"
      ]
    },
    {
      "cell_type": "code",
      "execution_count": 9,
      "id": "a7787509",
      "metadata": {
        "colab": {
          "base_uri": "https://localhost:8080/"
        },
        "id": "a7787509",
        "outputId": "8e3ae7d1-3b3d-4fe8-f5c3-0ce19bbad042"
      },
      "outputs": [
        {
          "output_type": "execute_result",
          "data": {
            "text/plain": [
              "0    0\n",
              "1    0\n",
              "2    0\n",
              "3    0\n",
              "4    0\n",
              "Name: Purchased, dtype: int64"
            ]
          },
          "metadata": {},
          "execution_count": 9
        }
      ],
      "source": [
        "y= df['Purchased']\n",
        "y.head()"
      ]
    },
    {
      "cell_type": "markdown",
      "id": "0e6cb02a",
      "metadata": {
        "id": "0e6cb02a"
      },
      "source": [
        "### Normalizing the dataset to make both feature's value in between 0 and 1 as they have different ranges right now."
      ]
    },
    {
      "cell_type": "code",
      "execution_count": 10,
      "id": "ff90fb71",
      "metadata": {
        "id": "ff90fb71"
      },
      "outputs": [],
      "source": [
        "from sklearn.preprocessing import StandardScaler\n",
        "scaler = StandardScaler()\n",
        "\n",
        "x_scaled = scaler.fit_transform(x)"
      ]
    },
    {
      "cell_type": "markdown",
      "id": "77b1a3ea",
      "metadata": {
        "id": "77b1a3ea"
      },
      "source": [
        "### Designing Neural Network"
      ]
    },
    {
      "cell_type": "code",
      "execution_count": 11,
      "id": "6245d0e7",
      "metadata": {
        "id": "6245d0e7"
      },
      "outputs": [],
      "source": [
        "import tensorflow as tf\n",
        "from tensorflow import keras\n",
        "from keras import Sequential\n",
        "from keras.layers import Dense"
      ]
    },
    {
      "cell_type": "code",
      "source": [
        "#making the sequential model\n",
        "model= Sequential()\n",
        "\n",
        "#adding layers to model\n",
        "                                        #as we have two features\n",
        "#hidden layer 1\n",
        "model.add(Dense(10, activation= 'relu', input_dim= 2))\n",
        "#hidden layer 2\n",
        "model.add(Dense(10, activation= 'relu'))\n",
        "#output layer\n",
        "model.add(Dense(1, activation= 'sigmoid'))"
      ],
      "metadata": {
        "id": "r0lKRHXotKt0"
      },
      "id": "r0lKRHXotKt0",
      "execution_count": 12,
      "outputs": []
    },
    {
      "cell_type": "code",
      "source": [
        "model.summary()"
      ],
      "metadata": {
        "colab": {
          "base_uri": "https://localhost:8080/"
        },
        "id": "m2V4lqeXtmg9",
        "outputId": "509d5bbb-9c28-410c-ec55-bd2f28ee0766"
      },
      "id": "m2V4lqeXtmg9",
      "execution_count": 13,
      "outputs": [
        {
          "output_type": "stream",
          "name": "stdout",
          "text": [
            "Model: \"sequential\"\n",
            "_________________________________________________________________\n",
            " Layer (type)                Output Shape              Param #   \n",
            "=================================================================\n",
            " dense (Dense)               (None, 10)                30        \n",
            "                                                                 \n",
            " dense_1 (Dense)             (None, 10)                110       \n",
            "                                                                 \n",
            " dense_2 (Dense)             (None, 1)                 11        \n",
            "                                                                 \n",
            "=================================================================\n",
            "Total params: 151 (604.00 Byte)\n",
            "Trainable params: 151 (604.00 Byte)\n",
            "Non-trainable params: 0 (0.00 Byte)\n",
            "_________________________________________________________________\n"
          ]
        }
      ]
    },
    {
      "cell_type": "markdown",
      "source": [
        "# Compiling and Training model with Batch Gradient Descent"
      ],
      "metadata": {
        "id": "1kMDQdZRtt3n"
      },
      "id": "1kMDQdZRtt3n"
    },
    {
      "cell_type": "markdown",
      "source": [
        "## Stochastic vs Batch in terms of Speed of Completion of Epochs"
      ],
      "metadata": {
        "id": "R3QyzWMtPoAR"
      },
      "id": "R3QyzWMtPoAR"
    },
    {
      "cell_type": "markdown",
      "source": [
        "**Training with Batch Gradient Descent**"
      ],
      "metadata": {
        "id": "8HXVEe-Ru0ch"
      },
      "id": "8HXVEe-Ru0ch"
    },
    {
      "cell_type": "markdown",
      "source": [
        "In Batch Gradient Descent we will pass the whole dataset which is 400 examples at once to our model and so it will change weight for all examples once according to number of epochs.6\n",
        "\n",
        "Means if we have 5 epochs it will update weights 5 times."
      ],
      "metadata": {
        "id": "pZ7CZm-Lt1td"
      },
      "id": "pZ7CZm-Lt1td"
    },
    {
      "cell_type": "code",
      "source": [
        "x_scaled.shape"
      ],
      "metadata": {
        "colab": {
          "base_uri": "https://localhost:8080/"
        },
        "id": "uLo9EiH0uhBF",
        "outputId": "d72779ae-4f3d-4b46-c339-04843663afa0"
      },
      "id": "uLo9EiH0uhBF",
      "execution_count": 14,
      "outputs": [
        {
          "output_type": "execute_result",
          "data": {
            "text/plain": [
              "(400, 2)"
            ]
          },
          "metadata": {},
          "execution_count": 14
        }
      ]
    },
    {
      "cell_type": "code",
      "source": [
        "model.compile(loss='binary_crossentropy',metrics=['accuracy'])\n",
        "start = time.time()\n",
        "history = model.fit(x_scaled,y,epochs=5,batch_size=400)\n",
        "print('Time taken to complete 5 epochs' , time.time() - start)"
      ],
      "metadata": {
        "colab": {
          "base_uri": "https://localhost:8080/"
        },
        "id": "3x7PBq-ytnuE",
        "outputId": "5adda7f3-52fe-4977-c8c5-1b739e82dff9"
      },
      "id": "3x7PBq-ytnuE",
      "execution_count": 15,
      "outputs": [
        {
          "output_type": "stream",
          "name": "stdout",
          "text": [
            "Epoch 1/5\n",
            "1/1 [==============================] - 1s 1s/step - loss: 0.7564 - accuracy: 0.3925\n",
            "Epoch 2/5\n",
            "1/1 [==============================] - 0s 13ms/step - loss: 0.7414 - accuracy: 0.4300\n",
            "Epoch 3/5\n",
            "1/1 [==============================] - 0s 13ms/step - loss: 0.7310 - accuracy: 0.4375\n",
            "Epoch 4/5\n",
            "1/1 [==============================] - 0s 14ms/step - loss: 0.7224 - accuracy: 0.4625\n",
            "Epoch 5/5\n",
            "1/1 [==============================] - 0s 15ms/step - loss: 0.7150 - accuracy: 0.4800\n",
            "Time taken to complete 5 epochs 1.3654241561889648\n"
          ]
        }
      ]
    },
    {
      "cell_type": "markdown",
      "source": [
        "As in above in every epoch 1/1 shows that weights were updated only 1 time."
      ],
      "metadata": {
        "id": "39_sDkXzvb9D"
      },
      "id": "39_sDkXzvb9D"
    },
    {
      "cell_type": "markdown",
      "source": [
        "**Training with Stochastic Gradient Descent**"
      ],
      "metadata": {
        "id": "oyPBpln-u52E"
      },
      "id": "oyPBpln-u52E"
    },
    {
      "cell_type": "markdown",
      "source": [
        "In this one you will pass 1 example to model at atime and model will change its weights for the every example and in every epoch.\n",
        "So if we have 5 epochs and 400 example it should update weight 5x400= 2000 times.\n",
        "\n",
        "So for this Batch Size will be 1."
      ],
      "metadata": {
        "id": "srsU7Bm8u_G0"
      },
      "id": "srsU7Bm8u_G0"
    },
    {
      "cell_type": "code",
      "source": [
        "model.compile(loss='binary_crossentropy',metrics=['accuracy'])\n",
        "start = time.time()\n",
        "history = model.fit(x_scaled,y,epochs=5,batch_size=1)\n",
        "print('Time taken to complete 5 epochs' , time.time() - start)"
      ],
      "metadata": {
        "colab": {
          "base_uri": "https://localhost:8080/"
        },
        "id": "QsP8yMxtuzkb",
        "outputId": "fe6a1d80-a780-4267-93cc-617fa880a949"
      },
      "id": "QsP8yMxtuzkb",
      "execution_count": 16,
      "outputs": [
        {
          "output_type": "stream",
          "name": "stdout",
          "text": [
            "Epoch 1/5\n",
            "400/400 [==============================] - 2s 2ms/step - loss: 0.4906 - accuracy: 0.7625\n",
            "Epoch 2/5\n",
            "400/400 [==============================] - 1s 2ms/step - loss: 0.3657 - accuracy: 0.8175\n",
            "Epoch 3/5\n",
            "400/400 [==============================] - 1s 2ms/step - loss: 0.3453 - accuracy: 0.8300\n",
            "Epoch 4/5\n",
            "400/400 [==============================] - 1s 2ms/step - loss: 0.3345 - accuracy: 0.8425\n",
            "Epoch 5/5\n",
            "400/400 [==============================] - 1s 2ms/step - loss: 0.3358 - accuracy: 0.8475\n",
            "Time taken to complete 5 epochs 4.49378514289856\n"
          ]
        }
      ]
    },
    {
      "cell_type": "markdown",
      "source": [
        "As in above 400/400 shows that in every epoch weights were updated 400 times."
      ],
      "metadata": {
        "id": "8Pilgafjvh4D"
      },
      "id": "8Pilgafjvh4D"
    },
    {
      "cell_type": "markdown",
      "source": [
        "**By comparing the time taken by each Gradient Descent to complete their epochs you can see that Batch gradient Descent is way faster than Stochastic Gradient Descent becuase It Updates less number of weights than Stochastic Gradient Descent in same number of epochs**"
      ],
      "metadata": {
        "id": "DHZFfv9Yv5-s"
      },
      "id": "DHZFfv9Yv5-s"
    },
    {
      "cell_type": "markdown",
      "source": [
        "## Stochastic vs Batch in terms of Faster Convergence"
      ],
      "metadata": {
        "id": "w0OHw-f0wVxe"
      },
      "id": "w0OHw-f0wVxe"
    },
    {
      "cell_type": "markdown",
      "source": [
        "Now we will compare both in terms of which algorithm reach the optimal solution means where the loss is less and validation accuracy is high in less number of epochs."
      ],
      "metadata": {
        "id": "4GpOrILRwb0m"
      },
      "id": "4GpOrILRwb0m"
    },
    {
      "cell_type": "markdown",
      "source": [
        "**Firstly Lets Train Batch Gradient Descent**"
      ],
      "metadata": {
        "id": "GxMCoMBKxI7V"
      },
      "id": "GxMCoMBKxI7V"
    },
    {
      "cell_type": "code",
      "source": [
        "model.compile(loss='binary_crossentropy',metrics=['accuracy'])\n",
        "history = model.fit(x_scaled,y,epochs=10,batch_size=400, validation_split= 0.2)"
      ],
      "metadata": {
        "colab": {
          "base_uri": "https://localhost:8080/"
        },
        "id": "ykKeqdFOulSz",
        "outputId": "eba1e1b1-3fa9-4869-d58c-13caa21c0038"
      },
      "id": "ykKeqdFOulSz",
      "execution_count": 17,
      "outputs": [
        {
          "output_type": "stream",
          "name": "stdout",
          "text": [
            "Epoch 1/10\n",
            "1/1 [==============================] - 1s 1s/step - loss: 0.3205 - accuracy: 0.8406 - val_loss: 0.3547 - val_accuracy: 0.8625\n",
            "Epoch 2/10\n",
            "1/1 [==============================] - 0s 38ms/step - loss: 0.3172 - accuracy: 0.8406 - val_loss: 0.3563 - val_accuracy: 0.8625\n",
            "Epoch 3/10\n",
            "1/1 [==============================] - 0s 60ms/step - loss: 0.3150 - accuracy: 0.8406 - val_loss: 0.3577 - val_accuracy: 0.8625\n",
            "Epoch 4/10\n",
            "1/1 [==============================] - 0s 42ms/step - loss: 0.3132 - accuracy: 0.8406 - val_loss: 0.3589 - val_accuracy: 0.8625\n",
            "Epoch 5/10\n",
            "1/1 [==============================] - 0s 40ms/step - loss: 0.3116 - accuracy: 0.8406 - val_loss: 0.3601 - val_accuracy: 0.8625\n",
            "Epoch 6/10\n",
            "1/1 [==============================] - 0s 36ms/step - loss: 0.3102 - accuracy: 0.8406 - val_loss: 0.3612 - val_accuracy: 0.8625\n",
            "Epoch 7/10\n",
            "1/1 [==============================] - 0s 39ms/step - loss: 0.3090 - accuracy: 0.8406 - val_loss: 0.3623 - val_accuracy: 0.8625\n",
            "Epoch 8/10\n",
            "1/1 [==============================] - 0s 38ms/step - loss: 0.3079 - accuracy: 0.8406 - val_loss: 0.3635 - val_accuracy: 0.8625\n",
            "Epoch 9/10\n",
            "1/1 [==============================] - 0s 36ms/step - loss: 0.3069 - accuracy: 0.8406 - val_loss: 0.3646 - val_accuracy: 0.8625\n",
            "Epoch 10/10\n",
            "1/1 [==============================] - 0s 39ms/step - loss: 0.3059 - accuracy: 0.8406 - val_loss: 0.3657 - val_accuracy: 0.8625\n"
          ]
        }
      ]
    },
    {
      "cell_type": "markdown",
      "source": [
        "In 10 epoch Batch Gradient Descent has reached at 0.86 of Validation Acuracy."
      ],
      "metadata": {
        "id": "-nISRx-YxbY-"
      },
      "id": "-nISRx-YxbY-"
    },
    {
      "cell_type": "markdown",
      "source": [
        "**Now Training Stochastic Gradient Descent**"
      ],
      "metadata": {
        "id": "pWc7MtcDxp-s"
      },
      "id": "pWc7MtcDxp-s"
    },
    {
      "cell_type": "code",
      "source": [
        "model.compile(loss='binary_crossentropy',metrics=['accuracy'])\n",
        "history = model.fit(x_scaled,y,epochs=10,batch_size=1, validation_split= 0.2)"
      ],
      "metadata": {
        "colab": {
          "base_uri": "https://localhost:8080/"
        },
        "id": "8Ny0V0EbxYL6",
        "outputId": "4ea13aeb-04fb-4dea-af96-8a0c37536d19"
      },
      "id": "8Ny0V0EbxYL6",
      "execution_count": 18,
      "outputs": [
        {
          "output_type": "stream",
          "name": "stdout",
          "text": [
            "Epoch 1/10\n",
            "320/320 [==============================] - 2s 4ms/step - loss: 0.3065 - accuracy: 0.8438 - val_loss: 0.3623 - val_accuracy: 0.8750\n",
            "Epoch 2/10\n",
            "320/320 [==============================] - 1s 2ms/step - loss: 0.3083 - accuracy: 0.8375 - val_loss: 0.3606 - val_accuracy: 0.8625\n",
            "Epoch 3/10\n",
            "320/320 [==============================] - 1s 2ms/step - loss: 0.3010 - accuracy: 0.8469 - val_loss: 0.3545 - val_accuracy: 0.8625\n",
            "Epoch 4/10\n",
            "320/320 [==============================] - 1s 2ms/step - loss: 0.2952 - accuracy: 0.8562 - val_loss: 0.3499 - val_accuracy: 0.9000\n",
            "Epoch 5/10\n",
            "320/320 [==============================] - 1s 2ms/step - loss: 0.2929 - accuracy: 0.8625 - val_loss: 0.3468 - val_accuracy: 0.9250\n",
            "Epoch 6/10\n",
            "320/320 [==============================] - 1s 2ms/step - loss: 0.2865 - accuracy: 0.8656 - val_loss: 0.3345 - val_accuracy: 0.9125\n",
            "Epoch 7/10\n",
            "320/320 [==============================] - 1s 2ms/step - loss: 0.2839 - accuracy: 0.8687 - val_loss: 0.3195 - val_accuracy: 0.9125\n",
            "Epoch 8/10\n",
            "320/320 [==============================] - 1s 2ms/step - loss: 0.2875 - accuracy: 0.8687 - val_loss: 0.3213 - val_accuracy: 0.9375\n",
            "Epoch 9/10\n",
            "320/320 [==============================] - 1s 2ms/step - loss: 0.2839 - accuracy: 0.8750 - val_loss: 0.3049 - val_accuracy: 0.9375\n",
            "Epoch 10/10\n",
            "320/320 [==============================] - 1s 2ms/step - loss: 0.2838 - accuracy: 0.8781 - val_loss: 0.2992 - val_accuracy: 0.9375\n"
          ]
        }
      ]
    },
    {
      "cell_type": "markdown",
      "source": [
        "And in 10 epochs Stochastic Gradient Descent reached at validation score of 0.93."
      ],
      "metadata": {
        "id": "5AT_q8xyzRBr"
      },
      "id": "5AT_q8xyzRBr"
    },
    {
      "cell_type": "markdown",
      "source": [
        "**This means that Batch will require more epochs to reach at 0.93 than Stochastic, So Stochastic is faster in convergence.**\n",
        "\n",
        "**This is usually due to fact that stochastic gradient descent calculates more weights than Batch in every epoch that is why it converge faster**"
      ],
      "metadata": {
        "id": "gNWNbjCVzaPM"
      },
      "id": "gNWNbjCVzaPM"
    },
    {
      "cell_type": "markdown",
      "source": [
        "## Stochastic vs Batch in terms of how they Converge"
      ],
      "metadata": {
        "id": "x6nXFfyaPenD"
      },
      "id": "x6nXFfyaPenD"
    },
    {
      "cell_type": "markdown",
      "source": [
        "So we will plot the loss of both Algorithms to see how they reach to opotimal solution means their minimum loss."
      ],
      "metadata": {
        "id": "BQEprWmkP3wC"
      },
      "id": "BQEprWmkP3wC"
    },
    {
      "cell_type": "markdown",
      "source": [
        "**Training Stochastic Gradient Descent**"
      ],
      "metadata": {
        "id": "qFd0jGHDP_1Z"
      },
      "id": "qFd0jGHDP_1Z"
    },
    {
      "cell_type": "code",
      "source": [
        "model.compile(loss='binary_crossentropy',metrics=['accuracy'])\n",
        "history = model.fit(x_scaled,y,epochs=100,batch_size=1,validation_split=0.2)"
      ],
      "metadata": {
        "id": "IKkfXwAfxzbj",
        "colab": {
          "base_uri": "https://localhost:8080/"
        },
        "outputId": "d06b11fc-6cd3-468c-ee12-699c4a9e5a53"
      },
      "id": "IKkfXwAfxzbj",
      "execution_count": 27,
      "outputs": [
        {
          "output_type": "stream",
          "name": "stdout",
          "text": [
            "Epoch 1/100\n",
            "320/320 [==============================] - 1s 3ms/step - loss: 0.2192 - accuracy: 0.9094 - val_loss: 0.2727 - val_accuracy: 0.9125\n",
            "Epoch 2/100\n",
            "320/320 [==============================] - 1s 2ms/step - loss: 0.2441 - accuracy: 0.9094 - val_loss: 0.2639 - val_accuracy: 0.9125\n",
            "Epoch 3/100\n",
            "320/320 [==============================] - 1s 3ms/step - loss: 0.2328 - accuracy: 0.9125 - val_loss: 0.2657 - val_accuracy: 0.9125\n",
            "Epoch 4/100\n",
            "320/320 [==============================] - 1s 3ms/step - loss: 0.2753 - accuracy: 0.9125 - val_loss: 0.2548 - val_accuracy: 0.9125\n",
            "Epoch 5/100\n",
            "320/320 [==============================] - 1s 3ms/step - loss: 0.2762 - accuracy: 0.9094 - val_loss: 0.2432 - val_accuracy: 0.9250\n",
            "Epoch 6/100\n",
            "320/320 [==============================] - 1s 3ms/step - loss: 0.2788 - accuracy: 0.9125 - val_loss: 0.2244 - val_accuracy: 0.9375\n",
            "Epoch 7/100\n",
            "320/320 [==============================] - 1s 3ms/step - loss: 0.2870 - accuracy: 0.9094 - val_loss: 0.2509 - val_accuracy: 0.9125\n",
            "Epoch 8/100\n",
            "320/320 [==============================] - 1s 2ms/step - loss: 0.2810 - accuracy: 0.9125 - val_loss: 0.2302 - val_accuracy: 0.9375\n",
            "Epoch 9/100\n",
            "320/320 [==============================] - 1s 2ms/step - loss: 0.2774 - accuracy: 0.9125 - val_loss: 0.2345 - val_accuracy: 0.9375\n",
            "Epoch 10/100\n",
            "320/320 [==============================] - 1s 2ms/step - loss: 0.2714 - accuracy: 0.9156 - val_loss: 0.2442 - val_accuracy: 0.9250\n",
            "Epoch 11/100\n",
            "320/320 [==============================] - 1s 2ms/step - loss: 0.2722 - accuracy: 0.9125 - val_loss: 0.2502 - val_accuracy: 0.9250\n",
            "Epoch 12/100\n",
            "320/320 [==============================] - 1s 2ms/step - loss: 0.2763 - accuracy: 0.9156 - val_loss: 0.2555 - val_accuracy: 0.9250\n",
            "Epoch 13/100\n",
            "320/320 [==============================] - 1s 2ms/step - loss: 0.2816 - accuracy: 0.9125 - val_loss: 0.2555 - val_accuracy: 0.9125\n",
            "Epoch 14/100\n",
            "320/320 [==============================] - 1s 2ms/step - loss: 0.2795 - accuracy: 0.9125 - val_loss: 0.2575 - val_accuracy: 0.9125\n",
            "Epoch 15/100\n",
            "320/320 [==============================] - 1s 2ms/step - loss: 0.2764 - accuracy: 0.9125 - val_loss: 0.2647 - val_accuracy: 0.9000\n",
            "Epoch 16/100\n",
            "320/320 [==============================] - 1s 2ms/step - loss: 0.2809 - accuracy: 0.9094 - val_loss: 0.2616 - val_accuracy: 0.9125\n",
            "Epoch 17/100\n",
            "320/320 [==============================] - 1s 2ms/step - loss: 0.2791 - accuracy: 0.9094 - val_loss: 0.2670 - val_accuracy: 0.9125\n",
            "Epoch 18/100\n",
            "320/320 [==============================] - 1s 2ms/step - loss: 0.2695 - accuracy: 0.9125 - val_loss: 0.2510 - val_accuracy: 0.9250\n",
            "Epoch 19/100\n",
            "320/320 [==============================] - 1s 2ms/step - loss: 0.2688 - accuracy: 0.9125 - val_loss: 0.2615 - val_accuracy: 0.9125\n",
            "Epoch 20/100\n",
            "320/320 [==============================] - 1s 2ms/step - loss: 0.2667 - accuracy: 0.9094 - val_loss: 0.2580 - val_accuracy: 0.9250\n",
            "Epoch 21/100\n",
            "320/320 [==============================] - 1s 2ms/step - loss: 0.2895 - accuracy: 0.9125 - val_loss: 0.2648 - val_accuracy: 0.9125\n",
            "Epoch 22/100\n",
            "320/320 [==============================] - 1s 4ms/step - loss: 0.2890 - accuracy: 0.9125 - val_loss: 0.2668 - val_accuracy: 0.9125\n",
            "Epoch 23/100\n",
            "320/320 [==============================] - 3s 9ms/step - loss: 0.2722 - accuracy: 0.9156 - val_loss: 0.2691 - val_accuracy: 0.9125\n",
            "Epoch 24/100\n",
            "320/320 [==============================] - 1s 3ms/step - loss: 0.2791 - accuracy: 0.9125 - val_loss: 0.2799 - val_accuracy: 0.9000\n",
            "Epoch 25/100\n",
            "320/320 [==============================] - 2s 5ms/step - loss: 0.2793 - accuracy: 0.9094 - val_loss: 0.2744 - val_accuracy: 0.9125\n",
            "Epoch 26/100\n",
            "320/320 [==============================] - 2s 5ms/step - loss: 0.2707 - accuracy: 0.9156 - val_loss: 0.2776 - val_accuracy: 0.9250\n",
            "Epoch 27/100\n",
            "320/320 [==============================] - 2s 5ms/step - loss: 0.2723 - accuracy: 0.9125 - val_loss: 0.2746 - val_accuracy: 0.9250\n",
            "Epoch 28/100\n",
            "320/320 [==============================] - 1s 5ms/step - loss: 0.2853 - accuracy: 0.9094 - val_loss: 0.2709 - val_accuracy: 0.9250\n",
            "Epoch 29/100\n",
            "320/320 [==============================] - 2s 6ms/step - loss: 0.2791 - accuracy: 0.9094 - val_loss: 0.2865 - val_accuracy: 0.9125\n",
            "Epoch 30/100\n",
            "320/320 [==============================] - 1s 3ms/step - loss: 0.2817 - accuracy: 0.9156 - val_loss: 0.2809 - val_accuracy: 0.9250\n",
            "Epoch 31/100\n",
            "320/320 [==============================] - 1s 4ms/step - loss: 0.2814 - accuracy: 0.9094 - val_loss: 0.2801 - val_accuracy: 0.9250\n",
            "Epoch 32/100\n",
            "320/320 [==============================] - 1s 4ms/step - loss: 0.2925 - accuracy: 0.9125 - val_loss: 0.3011 - val_accuracy: 0.9125\n",
            "Epoch 33/100\n",
            "320/320 [==============================] - 1s 4ms/step - loss: 0.2708 - accuracy: 0.9125 - val_loss: 0.3299 - val_accuracy: 0.9000\n",
            "Epoch 34/100\n",
            "320/320 [==============================] - 1s 3ms/step - loss: 0.2869 - accuracy: 0.9187 - val_loss: 0.2819 - val_accuracy: 0.9125\n",
            "Epoch 35/100\n",
            "320/320 [==============================] - 1s 3ms/step - loss: 0.2700 - accuracy: 0.9094 - val_loss: 0.2990 - val_accuracy: 0.9000\n",
            "Epoch 36/100\n",
            "320/320 [==============================] - 1s 3ms/step - loss: 0.2846 - accuracy: 0.9094 - val_loss: 0.2839 - val_accuracy: 0.9125\n",
            "Epoch 37/100\n",
            "320/320 [==============================] - 1s 4ms/step - loss: 0.2739 - accuracy: 0.9125 - val_loss: 0.2920 - val_accuracy: 0.9125\n",
            "Epoch 38/100\n",
            "320/320 [==============================] - 1s 3ms/step - loss: 0.2634 - accuracy: 0.9156 - val_loss: 0.2866 - val_accuracy: 0.9125\n",
            "Epoch 39/100\n",
            "320/320 [==============================] - 1s 2ms/step - loss: 0.2771 - accuracy: 0.9156 - val_loss: 0.2806 - val_accuracy: 0.9250\n",
            "Epoch 40/100\n",
            "320/320 [==============================] - 1s 3ms/step - loss: 0.2803 - accuracy: 0.9094 - val_loss: 0.2658 - val_accuracy: 0.9250\n",
            "Epoch 41/100\n",
            "320/320 [==============================] - 1s 3ms/step - loss: 0.2744 - accuracy: 0.9094 - val_loss: 0.2648 - val_accuracy: 0.9250\n",
            "Epoch 42/100\n",
            "320/320 [==============================] - 1s 2ms/step - loss: 0.2853 - accuracy: 0.9094 - val_loss: 0.2690 - val_accuracy: 0.9250\n",
            "Epoch 43/100\n",
            "320/320 [==============================] - 1s 2ms/step - loss: 0.2815 - accuracy: 0.9125 - val_loss: 0.2613 - val_accuracy: 0.9250\n",
            "Epoch 44/100\n",
            "320/320 [==============================] - 1s 2ms/step - loss: 0.2781 - accuracy: 0.9125 - val_loss: 0.2597 - val_accuracy: 0.9375\n",
            "Epoch 45/100\n",
            "320/320 [==============================] - 1s 2ms/step - loss: 0.2903 - accuracy: 0.9156 - val_loss: 0.2604 - val_accuracy: 0.9250\n",
            "Epoch 46/100\n",
            "320/320 [==============================] - 1s 2ms/step - loss: 0.2784 - accuracy: 0.9094 - val_loss: 0.2607 - val_accuracy: 0.9250\n",
            "Epoch 47/100\n",
            "320/320 [==============================] - 1s 3ms/step - loss: 0.2797 - accuracy: 0.9125 - val_loss: 0.2693 - val_accuracy: 0.9125\n",
            "Epoch 48/100\n",
            "320/320 [==============================] - 1s 4ms/step - loss: 0.2854 - accuracy: 0.9125 - val_loss: 0.2550 - val_accuracy: 0.9375\n",
            "Epoch 49/100\n",
            "320/320 [==============================] - 1s 3ms/step - loss: 0.2834 - accuracy: 0.9125 - val_loss: 0.2479 - val_accuracy: 0.9250\n",
            "Epoch 50/100\n",
            "320/320 [==============================] - 1s 3ms/step - loss: 0.2893 - accuracy: 0.9094 - val_loss: 0.2546 - val_accuracy: 0.9250\n",
            "Epoch 51/100\n",
            "320/320 [==============================] - 1s 2ms/step - loss: 0.2867 - accuracy: 0.9156 - val_loss: 0.2538 - val_accuracy: 0.9250\n",
            "Epoch 52/100\n",
            "320/320 [==============================] - 1s 2ms/step - loss: 0.2711 - accuracy: 0.9094 - val_loss: 0.2602 - val_accuracy: 0.9000\n",
            "Epoch 53/100\n",
            "320/320 [==============================] - 1s 2ms/step - loss: 0.2924 - accuracy: 0.9094 - val_loss: 0.2708 - val_accuracy: 0.9125\n",
            "Epoch 54/100\n",
            "320/320 [==============================] - 1s 2ms/step - loss: 0.3060 - accuracy: 0.9125 - val_loss: 0.2582 - val_accuracy: 0.9125\n",
            "Epoch 55/100\n",
            "320/320 [==============================] - 1s 2ms/step - loss: 0.2827 - accuracy: 0.9094 - val_loss: 0.2480 - val_accuracy: 0.9125\n",
            "Epoch 56/100\n",
            "320/320 [==============================] - 1s 2ms/step - loss: 0.2766 - accuracy: 0.9125 - val_loss: 0.2583 - val_accuracy: 0.9125\n",
            "Epoch 57/100\n",
            "320/320 [==============================] - 1s 2ms/step - loss: 0.2851 - accuracy: 0.9094 - val_loss: 0.2434 - val_accuracy: 0.9250\n",
            "Epoch 58/100\n",
            "320/320 [==============================] - 1s 2ms/step - loss: 0.2910 - accuracy: 0.9094 - val_loss: 0.2740 - val_accuracy: 0.9000\n",
            "Epoch 59/100\n",
            "320/320 [==============================] - 1s 2ms/step - loss: 0.3071 - accuracy: 0.9094 - val_loss: 0.2615 - val_accuracy: 0.9000\n",
            "Epoch 60/100\n",
            "320/320 [==============================] - 1s 2ms/step - loss: 0.2882 - accuracy: 0.9125 - val_loss: 0.2714 - val_accuracy: 0.9000\n",
            "Epoch 61/100\n",
            "320/320 [==============================] - 1s 2ms/step - loss: 0.2798 - accuracy: 0.9094 - val_loss: 0.2735 - val_accuracy: 0.9125\n",
            "Epoch 62/100\n",
            "320/320 [==============================] - 1s 2ms/step - loss: 0.2843 - accuracy: 0.9094 - val_loss: 0.2875 - val_accuracy: 0.9000\n",
            "Epoch 63/100\n",
            "320/320 [==============================] - 1s 2ms/step - loss: 0.2955 - accuracy: 0.9062 - val_loss: 0.2754 - val_accuracy: 0.9000\n",
            "Epoch 64/100\n",
            "320/320 [==============================] - 1s 2ms/step - loss: 0.2707 - accuracy: 0.9125 - val_loss: 0.2481 - val_accuracy: 0.9125\n",
            "Epoch 65/100\n",
            "320/320 [==============================] - 1s 3ms/step - loss: 0.2985 - accuracy: 0.9094 - val_loss: 0.2548 - val_accuracy: 0.9125\n",
            "Epoch 66/100\n",
            "320/320 [==============================] - 1s 3ms/step - loss: 0.2841 - accuracy: 0.9094 - val_loss: 0.2600 - val_accuracy: 0.9000\n",
            "Epoch 67/100\n",
            "320/320 [==============================] - 1s 3ms/step - loss: 0.2770 - accuracy: 0.9125 - val_loss: 0.2598 - val_accuracy: 0.9125\n",
            "Epoch 68/100\n",
            "320/320 [==============================] - 1s 3ms/step - loss: 0.2964 - accuracy: 0.9094 - val_loss: 0.2640 - val_accuracy: 0.9000\n",
            "Epoch 69/100\n",
            "320/320 [==============================] - 1s 3ms/step - loss: 0.2745 - accuracy: 0.9094 - val_loss: 0.2642 - val_accuracy: 0.9000\n",
            "Epoch 70/100\n",
            "320/320 [==============================] - 1s 2ms/step - loss: 0.2977 - accuracy: 0.9156 - val_loss: 0.2507 - val_accuracy: 0.9000\n",
            "Epoch 71/100\n",
            "320/320 [==============================] - 1s 2ms/step - loss: 0.2979 - accuracy: 0.9125 - val_loss: 0.2598 - val_accuracy: 0.9125\n",
            "Epoch 72/100\n",
            "320/320 [==============================] - 1s 2ms/step - loss: 0.2930 - accuracy: 0.9125 - val_loss: 0.2559 - val_accuracy: 0.9000\n",
            "Epoch 73/100\n",
            "320/320 [==============================] - 1s 2ms/step - loss: 0.2910 - accuracy: 0.9094 - val_loss: 0.2624 - val_accuracy: 0.9125\n",
            "Epoch 74/100\n",
            "320/320 [==============================] - 1s 2ms/step - loss: 0.2964 - accuracy: 0.9094 - val_loss: 0.2684 - val_accuracy: 0.9000\n",
            "Epoch 75/100\n",
            "320/320 [==============================] - 1s 2ms/step - loss: 0.3005 - accuracy: 0.9125 - val_loss: 0.2671 - val_accuracy: 0.9125\n",
            "Epoch 76/100\n",
            "320/320 [==============================] - 2s 5ms/step - loss: 0.2858 - accuracy: 0.9156 - val_loss: 0.2708 - val_accuracy: 0.9000\n",
            "Epoch 77/100\n",
            "320/320 [==============================] - 1s 2ms/step - loss: 0.2841 - accuracy: 0.9094 - val_loss: 0.2793 - val_accuracy: 0.9000\n",
            "Epoch 78/100\n",
            "320/320 [==============================] - 1s 2ms/step - loss: 0.2944 - accuracy: 0.9125 - val_loss: 0.2909 - val_accuracy: 0.9000\n",
            "Epoch 79/100\n",
            "320/320 [==============================] - 1s 2ms/step - loss: 0.2825 - accuracy: 0.9187 - val_loss: 0.2676 - val_accuracy: 0.9125\n",
            "Epoch 80/100\n",
            "320/320 [==============================] - 1s 2ms/step - loss: 0.2882 - accuracy: 0.9094 - val_loss: 0.2716 - val_accuracy: 0.9000\n",
            "Epoch 81/100\n",
            "320/320 [==============================] - 1s 2ms/step - loss: 0.2897 - accuracy: 0.9125 - val_loss: 0.2401 - val_accuracy: 0.9250\n",
            "Epoch 82/100\n",
            "320/320 [==============================] - 1s 2ms/step - loss: 0.2995 - accuracy: 0.9062 - val_loss: 0.2576 - val_accuracy: 0.9125\n",
            "Epoch 83/100\n",
            "320/320 [==============================] - 1s 3ms/step - loss: 0.2859 - accuracy: 0.9187 - val_loss: 0.2624 - val_accuracy: 0.9125\n",
            "Epoch 84/100\n",
            "320/320 [==============================] - 1s 3ms/step - loss: 0.2863 - accuracy: 0.9125 - val_loss: 0.2703 - val_accuracy: 0.9000\n",
            "Epoch 85/100\n",
            "320/320 [==============================] - 1s 4ms/step - loss: 0.2848 - accuracy: 0.9156 - val_loss: 0.2532 - val_accuracy: 0.9125\n",
            "Epoch 86/100\n",
            "320/320 [==============================] - 1s 4ms/step - loss: 0.2841 - accuracy: 0.9156 - val_loss: 0.2652 - val_accuracy: 0.9125\n",
            "Epoch 87/100\n",
            "320/320 [==============================] - 1s 3ms/step - loss: 0.2710 - accuracy: 0.9125 - val_loss: 0.2692 - val_accuracy: 0.9000\n",
            "Epoch 88/100\n",
            "320/320 [==============================] - 1s 2ms/step - loss: 0.2838 - accuracy: 0.9125 - val_loss: 0.2632 - val_accuracy: 0.9125\n",
            "Epoch 89/100\n",
            "320/320 [==============================] - 1s 2ms/step - loss: 0.2807 - accuracy: 0.9156 - val_loss: 0.2715 - val_accuracy: 0.9125\n",
            "Epoch 90/100\n",
            "320/320 [==============================] - 1s 2ms/step - loss: 0.2767 - accuracy: 0.9094 - val_loss: 0.2709 - val_accuracy: 0.9000\n",
            "Epoch 91/100\n",
            "320/320 [==============================] - 1s 2ms/step - loss: 0.2884 - accuracy: 0.9156 - val_loss: 0.2702 - val_accuracy: 0.9125\n",
            "Epoch 92/100\n",
            "320/320 [==============================] - 1s 2ms/step - loss: 0.2839 - accuracy: 0.9062 - val_loss: 0.2573 - val_accuracy: 0.9125\n",
            "Epoch 93/100\n",
            "320/320 [==============================] - 1s 2ms/step - loss: 0.2707 - accuracy: 0.9094 - val_loss: 0.2694 - val_accuracy: 0.9000\n",
            "Epoch 94/100\n",
            "320/320 [==============================] - 1s 2ms/step - loss: 0.2658 - accuracy: 0.9125 - val_loss: 0.2631 - val_accuracy: 0.9125\n",
            "Epoch 95/100\n",
            "320/320 [==============================] - 1s 2ms/step - loss: 0.2918 - accuracy: 0.9156 - val_loss: 0.2524 - val_accuracy: 0.9125\n",
            "Epoch 96/100\n",
            "320/320 [==============================] - 1s 2ms/step - loss: 0.2744 - accuracy: 0.9125 - val_loss: 0.2342 - val_accuracy: 0.9375\n",
            "Epoch 97/100\n",
            "320/320 [==============================] - 1s 2ms/step - loss: 0.2850 - accuracy: 0.9125 - val_loss: 0.2617 - val_accuracy: 0.9000\n",
            "Epoch 98/100\n",
            "320/320 [==============================] - 1s 4ms/step - loss: 0.2716 - accuracy: 0.9094 - val_loss: 0.2520 - val_accuracy: 0.9125\n",
            "Epoch 99/100\n",
            "320/320 [==============================] - 2s 5ms/step - loss: 0.2704 - accuracy: 0.9125 - val_loss: 0.2525 - val_accuracy: 0.9000\n",
            "Epoch 100/100\n",
            "320/320 [==============================] - 1s 3ms/step - loss: 0.2820 - accuracy: 0.9125 - val_loss: 0.2440 - val_accuracy: 0.9250\n"
          ]
        }
      ]
    },
    {
      "cell_type": "markdown",
      "source": [
        "Lets plot the loss for the Stochastic gradient descent."
      ],
      "metadata": {
        "id": "bAnll6EMSmLq"
      },
      "id": "bAnll6EMSmLq"
    },
    {
      "cell_type": "code",
      "source": [
        "plt.plot(history.history['loss'])\n",
        "plt.title('Loss of Stochastic Gradient Descent')\n",
        "plt.xlabel('Number of Epochs')\n",
        "plt.ylabel('Loss')"
      ],
      "metadata": {
        "colab": {
          "base_uri": "https://localhost:8080/",
          "height": 489
        },
        "id": "yTzLmPd7QIop",
        "outputId": "8cfd9fe7-82e7-42ac-8afb-d2315e76d58d"
      },
      "id": "yTzLmPd7QIop",
      "execution_count": 28,
      "outputs": [
        {
          "output_type": "execute_result",
          "data": {
            "text/plain": [
              "Text(0, 0.5, 'Loss')"
            ]
          },
          "metadata": {},
          "execution_count": 28
        },
        {
          "output_type": "display_data",
          "data": {
            "text/plain": [
              "<Figure size 640x480 with 1 Axes>"
            ],
            "image/png": "[encoded data removed]"
          },
          "metadata": {}
        }
      ]
    },
    {
      "cell_type": "markdown",
      "source": [
        "**Training Batch Gradient Descent**"
      ],
      "metadata": {
        "id": "VDlJDkteT2hS"
      },
      "id": "VDlJDkteT2hS"
    },
    {
      "cell_type": "code",
      "source": [
        "model.compile(loss= 'binary_crossentropy', metrics=['accuracy'])\n",
        "history = model.fit(x_scaled,y,epochs=100,batch_size=320,validation_split=0.2)"
      ],
      "metadata": {
        "colab": {
          "base_uri": "https://localhost:8080/"
        },
        "id": "M8FtQ7v-Tqoq",
        "outputId": "d04dd559-707c-44ca-c858-3a7080712f2a"
      },
      "id": "M8FtQ7v-Tqoq",
      "execution_count": 29,
      "outputs": [
        {
          "output_type": "stream",
          "name": "stdout",
          "text": [
            "Epoch 1/100\n",
            "1/1 [==============================] - 1s 1s/step - loss: 0.2629 - accuracy: 0.9125 - val_loss: 0.2546 - val_accuracy: 0.9125\n",
            "Epoch 2/100\n",
            "1/1 [==============================] - 0s 85ms/step - loss: 0.2517 - accuracy: 0.9156 - val_loss: 0.2635 - val_accuracy: 0.9250\n",
            "Epoch 3/100\n",
            "1/1 [==============================] - 0s 69ms/step - loss: 0.2458 - accuracy: 0.9156 - val_loss: 0.2719 - val_accuracy: 0.9250\n",
            "Epoch 4/100\n",
            "1/1 [==============================] - 0s 69ms/step - loss: 0.2420 - accuracy: 0.9187 - val_loss: 0.2795 - val_accuracy: 0.9125\n",
            "Epoch 5/100\n",
            "1/1 [==============================] - 0s 76ms/step - loss: 0.2388 - accuracy: 0.9187 - val_loss: 0.2865 - val_accuracy: 0.9125\n",
            "Epoch 6/100\n",
            "1/1 [==============================] - 0s 51ms/step - loss: 0.2361 - accuracy: 0.9156 - val_loss: 0.2917 - val_accuracy: 0.9250\n",
            "Epoch 7/100\n",
            "1/1 [==============================] - 0s 72ms/step - loss: 0.2333 - accuracy: 0.9156 - val_loss: 0.2979 - val_accuracy: 0.9250\n",
            "Epoch 8/100\n",
            "1/1 [==============================] - 0s 67ms/step - loss: 0.2309 - accuracy: 0.9187 - val_loss: 0.3036 - val_accuracy: 0.9250\n",
            "Epoch 9/100\n",
            "1/1 [==============================] - 0s 53ms/step - loss: 0.2287 - accuracy: 0.9187 - val_loss: 0.3081 - val_accuracy: 0.9250\n",
            "Epoch 10/100\n",
            "1/1 [==============================] - 0s 51ms/step - loss: 0.2267 - accuracy: 0.9156 - val_loss: 0.3144 - val_accuracy: 0.9250\n",
            "Epoch 11/100\n",
            "1/1 [==============================] - 0s 70ms/step - loss: 0.2249 - accuracy: 0.9125 - val_loss: 0.3179 - val_accuracy: 0.9250\n",
            "Epoch 12/100\n",
            "1/1 [==============================] - 0s 73ms/step - loss: 0.2236 - accuracy: 0.9125 - val_loss: 0.3243 - val_accuracy: 0.9250\n",
            "Epoch 13/100\n",
            "1/1 [==============================] - 0s 49ms/step - loss: 0.2222 - accuracy: 0.9125 - val_loss: 0.3297 - val_accuracy: 0.9250\n",
            "Epoch 14/100\n",
            "1/1 [==============================] - 0s 65ms/step - loss: 0.2212 - accuracy: 0.9125 - val_loss: 0.3327 - val_accuracy: 0.9250\n",
            "Epoch 15/100\n",
            "1/1 [==============================] - 0s 68ms/step - loss: 0.2202 - accuracy: 0.9156 - val_loss: 0.3369 - val_accuracy: 0.9250\n",
            "Epoch 16/100\n",
            "1/1 [==============================] - 0s 49ms/step - loss: 0.2193 - accuracy: 0.9156 - val_loss: 0.3405 - val_accuracy: 0.9250\n",
            "Epoch 17/100\n",
            "1/1 [==============================] - 0s 69ms/step - loss: 0.2185 - accuracy: 0.9125 - val_loss: 0.3436 - val_accuracy: 0.9125\n",
            "Epoch 18/100\n",
            "1/1 [==============================] - 0s 76ms/step - loss: 0.2177 - accuracy: 0.9125 - val_loss: 0.3448 - val_accuracy: 0.9250\n",
            "Epoch 19/100\n",
            "1/1 [==============================] - 0s 73ms/step - loss: 0.2165 - accuracy: 0.9125 - val_loss: 0.3482 - val_accuracy: 0.9125\n",
            "Epoch 20/100\n",
            "1/1 [==============================] - 0s 68ms/step - loss: 0.2155 - accuracy: 0.9125 - val_loss: 0.3512 - val_accuracy: 0.9125\n",
            "Epoch 21/100\n",
            "1/1 [==============================] - 0s 75ms/step - loss: 0.2146 - accuracy: 0.9125 - val_loss: 0.3536 - val_accuracy: 0.9125\n",
            "Epoch 22/100\n",
            "1/1 [==============================] - 0s 65ms/step - loss: 0.2138 - accuracy: 0.9125 - val_loss: 0.3556 - val_accuracy: 0.9000\n",
            "Epoch 23/100\n",
            "1/1 [==============================] - 0s 77ms/step - loss: 0.2131 - accuracy: 0.9125 - val_loss: 0.3588 - val_accuracy: 0.9000\n",
            "Epoch 24/100\n",
            "1/1 [==============================] - 0s 82ms/step - loss: 0.2126 - accuracy: 0.9125 - val_loss: 0.3612 - val_accuracy: 0.9000\n",
            "Epoch 25/100\n",
            "1/1 [==============================] - 0s 67ms/step - loss: 0.2121 - accuracy: 0.9125 - val_loss: 0.3624 - val_accuracy: 0.9000\n",
            "Epoch 26/100\n",
            "1/1 [==============================] - 0s 68ms/step - loss: 0.2116 - accuracy: 0.9125 - val_loss: 0.3644 - val_accuracy: 0.9000\n",
            "Epoch 27/100\n",
            "1/1 [==============================] - 0s 50ms/step - loss: 0.2112 - accuracy: 0.9125 - val_loss: 0.3652 - val_accuracy: 0.9000\n",
            "Epoch 28/100\n",
            "1/1 [==============================] - 0s 69ms/step - loss: 0.2108 - accuracy: 0.9125 - val_loss: 0.3669 - val_accuracy: 0.9000\n",
            "Epoch 29/100\n",
            "1/1 [==============================] - 0s 68ms/step - loss: 0.2104 - accuracy: 0.9156 - val_loss: 0.3681 - val_accuracy: 0.9000\n",
            "Epoch 30/100\n",
            "1/1 [==============================] - 0s 63ms/step - loss: 0.2100 - accuracy: 0.9156 - val_loss: 0.3690 - val_accuracy: 0.9000\n",
            "Epoch 31/100\n",
            "1/1 [==============================] - 0s 72ms/step - loss: 0.2097 - accuracy: 0.9187 - val_loss: 0.3689 - val_accuracy: 0.9000\n",
            "Epoch 32/100\n",
            "1/1 [==============================] - 0s 49ms/step - loss: 0.2093 - accuracy: 0.9187 - val_loss: 0.3703 - val_accuracy: 0.9000\n",
            "Epoch 33/100\n",
            "1/1 [==============================] - 0s 73ms/step - loss: 0.2089 - accuracy: 0.9187 - val_loss: 0.3711 - val_accuracy: 0.9000\n",
            "Epoch 34/100\n",
            "1/1 [==============================] - 0s 68ms/step - loss: 0.2086 - accuracy: 0.9187 - val_loss: 0.3707 - val_accuracy: 0.9000\n",
            "Epoch 35/100\n",
            "1/1 [==============================] - 0s 77ms/step - loss: 0.2083 - accuracy: 0.9187 - val_loss: 0.3721 - val_accuracy: 0.9000\n",
            "Epoch 36/100\n",
            "1/1 [==============================] - 0s 55ms/step - loss: 0.2079 - accuracy: 0.9187 - val_loss: 0.3735 - val_accuracy: 0.9000\n",
            "Epoch 37/100\n",
            "1/1 [==============================] - 0s 101ms/step - loss: 0.2077 - accuracy: 0.9187 - val_loss: 0.3740 - val_accuracy: 0.9000\n",
            "Epoch 38/100\n",
            "1/1 [==============================] - 0s 61ms/step - loss: 0.2073 - accuracy: 0.9187 - val_loss: 0.3731 - val_accuracy: 0.8875\n",
            "Epoch 39/100\n",
            "1/1 [==============================] - 0s 67ms/step - loss: 0.2070 - accuracy: 0.9187 - val_loss: 0.3759 - val_accuracy: 0.8875\n",
            "Epoch 40/100\n",
            "1/1 [==============================] - 0s 77ms/step - loss: 0.2068 - accuracy: 0.9187 - val_loss: 0.3728 - val_accuracy: 0.8875\n",
            "Epoch 41/100\n",
            "1/1 [==============================] - 0s 74ms/step - loss: 0.2065 - accuracy: 0.9187 - val_loss: 0.3739 - val_accuracy: 0.8875\n",
            "Epoch 42/100\n",
            "1/1 [==============================] - 0s 79ms/step - loss: 0.2062 - accuracy: 0.9187 - val_loss: 0.3736 - val_accuracy: 0.8875\n",
            "Epoch 43/100\n",
            "1/1 [==============================] - 0s 57ms/step - loss: 0.2059 - accuracy: 0.9187 - val_loss: 0.3747 - val_accuracy: 0.8875\n",
            "Epoch 44/100\n",
            "1/1 [==============================] - 0s 75ms/step - loss: 0.2057 - accuracy: 0.9187 - val_loss: 0.3743 - val_accuracy: 0.8875\n",
            "Epoch 45/100\n",
            "1/1 [==============================] - 0s 88ms/step - loss: 0.2054 - accuracy: 0.9187 - val_loss: 0.3743 - val_accuracy: 0.8875\n",
            "Epoch 46/100\n",
            "1/1 [==============================] - 0s 55ms/step - loss: 0.2051 - accuracy: 0.9187 - val_loss: 0.3751 - val_accuracy: 0.8875\n",
            "Epoch 47/100\n",
            "1/1 [==============================] - 0s 44ms/step - loss: 0.2049 - accuracy: 0.9219 - val_loss: 0.3709 - val_accuracy: 0.9000\n",
            "Epoch 48/100\n",
            "1/1 [==============================] - 0s 38ms/step - loss: 0.2047 - accuracy: 0.9219 - val_loss: 0.3735 - val_accuracy: 0.8875\n",
            "Epoch 49/100\n",
            "1/1 [==============================] - 0s 39ms/step - loss: 0.2044 - accuracy: 0.9219 - val_loss: 0.3739 - val_accuracy: 0.8875\n",
            "Epoch 50/100\n",
            "1/1 [==============================] - 0s 40ms/step - loss: 0.2041 - accuracy: 0.9219 - val_loss: 0.3728 - val_accuracy: 0.8875\n",
            "Epoch 51/100\n",
            "1/1 [==============================] - 0s 44ms/step - loss: 0.2039 - accuracy: 0.9219 - val_loss: 0.3735 - val_accuracy: 0.8875\n",
            "Epoch 52/100\n",
            "1/1 [==============================] - 0s 41ms/step - loss: 0.2037 - accuracy: 0.9219 - val_loss: 0.3728 - val_accuracy: 0.8875\n",
            "Epoch 53/100\n",
            "1/1 [==============================] - 0s 61ms/step - loss: 0.2034 - accuracy: 0.9219 - val_loss: 0.3731 - val_accuracy: 0.8875\n",
            "Epoch 54/100\n",
            "1/1 [==============================] - 0s 63ms/step - loss: 0.2032 - accuracy: 0.9219 - val_loss: 0.3739 - val_accuracy: 0.8875\n",
            "Epoch 55/100\n",
            "1/1 [==============================] - 0s 41ms/step - loss: 0.2029 - accuracy: 0.9219 - val_loss: 0.3721 - val_accuracy: 0.8875\n",
            "Epoch 56/100\n",
            "1/1 [==============================] - 0s 57ms/step - loss: 0.2026 - accuracy: 0.9187 - val_loss: 0.3711 - val_accuracy: 0.9000\n",
            "Epoch 57/100\n",
            "1/1 [==============================] - 0s 47ms/step - loss: 0.2025 - accuracy: 0.9219 - val_loss: 0.3749 - val_accuracy: 0.8875\n",
            "Epoch 58/100\n",
            "1/1 [==============================] - 0s 53ms/step - loss: 0.2023 - accuracy: 0.9219 - val_loss: 0.3722 - val_accuracy: 0.8875\n",
            "Epoch 59/100\n",
            "1/1 [==============================] - 0s 58ms/step - loss: 0.2021 - accuracy: 0.9219 - val_loss: 0.3701 - val_accuracy: 0.9000\n",
            "Epoch 60/100\n",
            "1/1 [==============================] - 0s 43ms/step - loss: 0.2020 - accuracy: 0.9187 - val_loss: 0.3768 - val_accuracy: 0.8875\n",
            "Epoch 61/100\n",
            "1/1 [==============================] - 0s 58ms/step - loss: 0.2019 - accuracy: 0.9219 - val_loss: 0.3702 - val_accuracy: 0.9000\n",
            "Epoch 62/100\n",
            "1/1 [==============================] - 0s 39ms/step - loss: 0.2017 - accuracy: 0.9187 - val_loss: 0.3730 - val_accuracy: 0.8875\n",
            "Epoch 63/100\n",
            "1/1 [==============================] - 0s 57ms/step - loss: 0.2016 - accuracy: 0.9187 - val_loss: 0.3660 - val_accuracy: 0.9000\n",
            "Epoch 64/100\n",
            "1/1 [==============================] - 0s 68ms/step - loss: 0.2016 - accuracy: 0.9187 - val_loss: 0.3769 - val_accuracy: 0.8875\n",
            "Epoch 65/100\n",
            "1/1 [==============================] - 0s 40ms/step - loss: 0.2014 - accuracy: 0.9187 - val_loss: 0.3674 - val_accuracy: 0.9000\n",
            "Epoch 66/100\n",
            "1/1 [==============================] - 0s 43ms/step - loss: 0.2011 - accuracy: 0.9187 - val_loss: 0.3711 - val_accuracy: 0.8875\n",
            "Epoch 67/100\n",
            "1/1 [==============================] - 0s 41ms/step - loss: 0.2009 - accuracy: 0.9187 - val_loss: 0.3653 - val_accuracy: 0.9000\n",
            "Epoch 68/100\n",
            "1/1 [==============================] - 0s 39ms/step - loss: 0.2009 - accuracy: 0.9187 - val_loss: 0.3737 - val_accuracy: 0.8875\n",
            "Epoch 69/100\n",
            "1/1 [==============================] - 0s 39ms/step - loss: 0.2007 - accuracy: 0.9187 - val_loss: 0.3633 - val_accuracy: 0.9000\n",
            "Epoch 70/100\n",
            "1/1 [==============================] - 0s 41ms/step - loss: 0.2006 - accuracy: 0.9156 - val_loss: 0.3706 - val_accuracy: 0.8875\n",
            "Epoch 71/100\n",
            "1/1 [==============================] - 0s 38ms/step - loss: 0.2002 - accuracy: 0.9156 - val_loss: 0.3647 - val_accuracy: 0.9000\n",
            "Epoch 72/100\n",
            "1/1 [==============================] - 0s 37ms/step - loss: 0.2001 - accuracy: 0.9125 - val_loss: 0.3705 - val_accuracy: 0.8875\n",
            "Epoch 73/100\n",
            "1/1 [==============================] - 0s 38ms/step - loss: 0.1999 - accuracy: 0.9125 - val_loss: 0.3638 - val_accuracy: 0.9000\n",
            "Epoch 74/100\n",
            "1/1 [==============================] - 0s 46ms/step - loss: 0.1997 - accuracy: 0.9125 - val_loss: 0.3686 - val_accuracy: 0.8875\n",
            "Epoch 75/100\n",
            "1/1 [==============================] - 0s 40ms/step - loss: 0.1993 - accuracy: 0.9125 - val_loss: 0.3672 - val_accuracy: 0.9000\n",
            "Epoch 76/100\n",
            "1/1 [==============================] - 0s 42ms/step - loss: 0.1989 - accuracy: 0.9125 - val_loss: 0.3674 - val_accuracy: 0.9000\n",
            "Epoch 77/100\n",
            "1/1 [==============================] - 0s 36ms/step - loss: 0.1985 - accuracy: 0.9125 - val_loss: 0.3626 - val_accuracy: 0.9000\n",
            "Epoch 78/100\n",
            "1/1 [==============================] - 0s 39ms/step - loss: 0.1982 - accuracy: 0.9125 - val_loss: 0.3731 - val_accuracy: 0.8875\n",
            "Epoch 79/100\n",
            "1/1 [==============================] - 0s 41ms/step - loss: 0.1979 - accuracy: 0.9094 - val_loss: 0.3614 - val_accuracy: 0.9000\n",
            "Epoch 80/100\n",
            "1/1 [==============================] - 0s 40ms/step - loss: 0.1976 - accuracy: 0.9125 - val_loss: 0.3687 - val_accuracy: 0.8875\n",
            "Epoch 81/100\n",
            "1/1 [==============================] - 0s 40ms/step - loss: 0.1974 - accuracy: 0.9125 - val_loss: 0.3641 - val_accuracy: 0.9000\n",
            "Epoch 82/100\n",
            "1/1 [==============================] - 0s 42ms/step - loss: 0.1971 - accuracy: 0.9125 - val_loss: 0.3662 - val_accuracy: 0.9000\n",
            "Epoch 83/100\n",
            "1/1 [==============================] - 0s 39ms/step - loss: 0.1969 - accuracy: 0.9125 - val_loss: 0.3611 - val_accuracy: 0.9000\n",
            "Epoch 84/100\n",
            "1/1 [==============================] - 0s 64ms/step - loss: 0.1968 - accuracy: 0.9125 - val_loss: 0.3697 - val_accuracy: 0.8875\n",
            "Epoch 85/100\n",
            "1/1 [==============================] - 0s 49ms/step - loss: 0.1964 - accuracy: 0.9125 - val_loss: 0.3593 - val_accuracy: 0.9000\n",
            "Epoch 86/100\n",
            "1/1 [==============================] - 0s 55ms/step - loss: 0.1962 - accuracy: 0.9125 - val_loss: 0.3683 - val_accuracy: 0.9000\n",
            "Epoch 87/100\n",
            "1/1 [==============================] - 0s 55ms/step - loss: 0.1961 - accuracy: 0.9094 - val_loss: 0.3595 - val_accuracy: 0.9000\n",
            "Epoch 88/100\n",
            "1/1 [==============================] - 0s 41ms/step - loss: 0.1959 - accuracy: 0.9125 - val_loss: 0.3652 - val_accuracy: 0.9000\n",
            "Epoch 89/100\n",
            "1/1 [==============================] - 0s 38ms/step - loss: 0.1957 - accuracy: 0.9125 - val_loss: 0.3599 - val_accuracy: 0.9000\n",
            "Epoch 90/100\n",
            "1/1 [==============================] - 0s 55ms/step - loss: 0.1955 - accuracy: 0.9125 - val_loss: 0.3621 - val_accuracy: 0.9000\n",
            "Epoch 91/100\n",
            "1/1 [==============================] - 0s 40ms/step - loss: 0.1953 - accuracy: 0.9125 - val_loss: 0.3615 - val_accuracy: 0.9000\n",
            "Epoch 92/100\n",
            "1/1 [==============================] - 0s 47ms/step - loss: 0.1953 - accuracy: 0.9125 - val_loss: 0.3647 - val_accuracy: 0.9000\n",
            "Epoch 93/100\n",
            "1/1 [==============================] - 0s 41ms/step - loss: 0.1951 - accuracy: 0.9125 - val_loss: 0.3581 - val_accuracy: 0.9000\n",
            "Epoch 94/100\n",
            "1/1 [==============================] - 0s 41ms/step - loss: 0.1951 - accuracy: 0.9125 - val_loss: 0.3686 - val_accuracy: 0.8875\n",
            "Epoch 95/100\n",
            "1/1 [==============================] - 0s 39ms/step - loss: 0.1950 - accuracy: 0.9094 - val_loss: 0.3548 - val_accuracy: 0.9000\n",
            "Epoch 96/100\n",
            "1/1 [==============================] - 0s 44ms/step - loss: 0.1949 - accuracy: 0.9156 - val_loss: 0.3667 - val_accuracy: 0.9000\n",
            "Epoch 97/100\n",
            "1/1 [==============================] - 0s 40ms/step - loss: 0.1947 - accuracy: 0.9125 - val_loss: 0.3569 - val_accuracy: 0.9000\n",
            "Epoch 98/100\n",
            "1/1 [==============================] - 0s 62ms/step - loss: 0.1946 - accuracy: 0.9125 - val_loss: 0.3625 - val_accuracy: 0.9000\n",
            "Epoch 99/100\n",
            "1/1 [==============================] - 0s 39ms/step - loss: 0.1946 - accuracy: 0.9125 - val_loss: 0.3588 - val_accuracy: 0.9000\n",
            "Epoch 100/100\n",
            "1/1 [==============================] - 0s 39ms/step - loss: 0.1945 - accuracy: 0.9125 - val_loss: 0.3639 - val_accuracy: 0.9000\n"
          ]
        }
      ]
    },
    {
      "cell_type": "markdown",
      "source": [
        "Loss of Batch Gradient Descent"
      ],
      "metadata": {
        "id": "NInaiv7KUoK5"
      },
      "id": "NInaiv7KUoK5"
    },
    {
      "cell_type": "code",
      "source": [
        "plt.plot(history.history['loss'])\n",
        "plt.title('Loss of Batch Gradient Descent')\n",
        "plt.xlabel('Number of Epochs')\n",
        "plt.ylabel('Loss')\n",
        "plt.show()"
      ],
      "metadata": {
        "colab": {
          "base_uri": "https://localhost:8080/",
          "height": 472
        },
        "id": "OHP4uBteUN8p",
        "outputId": "2c5a2cdf-95ba-45c4-f0f0-8808d9643214"
      },
      "id": "OHP4uBteUN8p",
      "execution_count": 30,
      "outputs": [
        {
          "output_type": "display_data",
          "data": {
            "text/plain": [
              "<Figure size 640x480 with 1 Axes>"
            ],
            "image/png": "[encoded data removed]"
          },
          "metadata": {}
        }
      ]
    },
    {
      "cell_type": "markdown",
      "source": [
        "**It is pretty smooth and does not have the spikes, it is because of the fact that weights are updated in less frequencey in batch so loss is updated for the less number of times.**"
      ],
      "metadata": {
        "id": "7zWoDxE_cMty"
      },
      "id": "7zWoDxE_cMty"
    },
    {
      "cell_type": "code",
      "source": [],
      "metadata": {
        "id": "xJF2rGJFVUha"
      },
      "id": "xJF2rGJFVUha",
      "execution_count": null,
      "outputs": []
    }
  ],
  "metadata": {
    "kernelspec": {
      "display_name": "Python 3 (ipykernel)",
      "language": "python",
      "name": "python3"
    },
    "language_info": {
      "codemirror_mode": {
        "name": "ipython",
        "version": 3
      },
      "file_extension": ".py",
      "mimetype": "text/x-python",
      "name": "python",
      "nbconvert_exporter": "python",
      "pygments_lexer": "ipython3",
      "version": "3.9.13"
    },
    "colab": {
      "provenance": []
    }
  },
  "nbformat": 4,
  "nbformat_minor": 5
}